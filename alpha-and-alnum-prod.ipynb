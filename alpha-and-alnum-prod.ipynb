{
 "cells": [
  {
   "cell_type": "code",
   "execution_count": null,
   "metadata": {},
   "outputs": [],
   "source": []
  },
  {
   "cell_type": "code",
   "execution_count": 1,
   "metadata": {},
   "outputs": [],
   "source": [
    "# isalpha vs isalnum\n",
    "# проверка на\n",
    "# юзернейм или хэштег"
   ]
  },
  {
   "cell_type": "code",
   "execution_count": 2,
   "metadata": {},
   "outputs": [
    {
     "name": "stdout",
     "output_type": "stream",
     "text": [
      "All chars are alpha.\n"
     ]
    }
   ],
   "source": [
    "word = \"HelloWorld\"\n",
    "\n",
    "if word.isalpha():\n",
    "    print(\"All chars are alpha.\")\n",
    "else:\n",
    "    print(\"Not all chars are alpha\")"
   ]
  },
  {
   "cell_type": "code",
   "execution_count": 3,
   "metadata": {},
   "outputs": [
    {
     "name": "stdout",
     "output_type": "stream",
     "text": [
      "Not all chars are alpha\n"
     ]
    }
   ],
   "source": [
    "word = \"HelloWorld123\"\n",
    "\n",
    "if word.isalpha():\n",
    "    print(\"All chars are alpha.\")\n",
    "else:\n",
    "    print(\"Not all chars are alpha\")"
   ]
  },
  {
   "cell_type": "code",
   "execution_count": 7,
   "metadata": {},
   "outputs": [
    {
     "name": "stdout",
     "output_type": "stream",
     "text": [
      "All chars are alphanum\n"
     ]
    }
   ],
   "source": [
    "word = \"HelloWorld123\"\n",
    "\n",
    "if word.isalnum():\n",
    "    print(\"All chars are alphanum\")\n",
    "else:\n",
    "    print(\"Not all chars are alphanum\")"
   ]
  },
  {
   "cell_type": "code",
   "execution_count": null,
   "metadata": {},
   "outputs": [],
   "source": []
  }
 ],
 "metadata": {
  "kernelspec": {
   "display_name": "Python 3 (ipykernel)",
   "language": "python",
   "name": "python3"
  },
  "language_info": {
   "codemirror_mode": {
    "name": "ipython",
    "version": 3
   },
   "file_extension": ".py",
   "mimetype": "text/x-python",
   "name": "python",
   "nbconvert_exporter": "python",
   "pygments_lexer": "ipython3",
   "version": "3.10.4"
  }
 },
 "nbformat": 4,
 "nbformat_minor": 1
}
