{
 "cells": [
  {
   "cell_type": "markdown",
   "metadata": {
    "collapsed": false,
    "jupyter": {
     "outputs_hidden": false
    }
   },
   "source": [
    "## Python init subclass"
   ]
  },
  {
   "cell_type": "code",
   "execution_count": 1,
   "metadata": {
    "collapsed": false,
    "jupyter": {
     "outputs_hidden": false
    }
   },
   "outputs": [],
   "source": [
    "class ModelBase:\n",
    "    def __init_subclass__(\n",
    "        cls,\n",
    "        model_type,\n",
    "        **kwargs,\n",
    "    ):\n",
    "        cls.type = model_type\n",
    "        super(\n",
    "        ).__init_subclass__(**kwargs)"
   ]
  },
  {
   "cell_type": "code",
   "execution_count": 2,
   "metadata": {},
   "outputs": [],
   "source": [
    "class UserModel(ModelBase,\n",
    "                model_type=\"user\"):\n",
    "    pass\n",
    "\n",
    "\n",
    "class ArticleModel(ModelBase,\n",
    "                   model_type=\"article\"):\n",
    "    pass"
   ]
  },
  {
   "cell_type": "code",
   "execution_count": 3,
   "metadata": {},
   "outputs": [
    {
     "name": "stdout",
     "output_type": "stream",
     "text": [
      "UserModel of type user\n",
      "ArticleModel of type article\n"
     ]
    }
   ],
   "source": [
    "for model in [\n",
    "    UserModel,\n",
    "    ArticleModel]:\n",
    "    print(\n",
    "        model.__name__,\n",
    "        \"of type\",\n",
    "        model.type,\n",
    "    )"
   ]
  },
  {
   "cell_type": "code",
   "execution_count": null,
   "metadata": {},
   "outputs": [],
   "source": []
  }
 ],
 "metadata": {
  "kernelspec": {
   "display_name": "Python 3 (ipykernel)",
   "language": "python",
   "name": "python3"
  },
  "language_info": {
   "codemirror_mode": {
    "name": "ipython",
    "version": 3
   },
   "file_extension": ".py",
   "mimetype": "text/x-python",
   "name": "python",
   "nbconvert_exporter": "python",
   "pygments_lexer": "ipython3",
   "version": "3.11.2"
  }
 },
 "nbformat": 4,
 "nbformat_minor": 4
}
