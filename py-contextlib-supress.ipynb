{
 "cells": [
  {
   "cell_type": "code",
   "execution_count": 1,
   "id": "fe2197b7-8f01-424c-956c-2d857ed8022c",
   "metadata": {},
   "outputs": [],
   "source": [
    "# contextlib\n",
    "# suppress"
   ]
  },
  {
   "cell_type": "code",
   "execution_count": 2,
   "id": "d9eb30a6",
   "metadata": {},
   "outputs": [],
   "source": [
    "def div_nums(a, b):\n",
    "    return a / b"
   ]
  },
  {
   "cell_type": "code",
   "execution_count": 3,
   "id": "8b4496dd",
   "metadata": {},
   "outputs": [
    {
     "ename": "ZeroDivisionError",
     "evalue": "division by zero",
     "output_type": "error",
     "traceback": [
      "\u001B[0;31m---------------------------------------------------------------------------\u001B[0m",
      "\u001B[0;31mZeroDivisionError\u001B[0m                         Traceback (most recent call last)",
      "Cell \u001B[0;32mIn[3], line 1\u001B[0m\n\u001B[0;32m----> 1\u001B[0m \u001B[43mdiv_nums\u001B[49m\u001B[43m(\u001B[49m\u001B[38;5;241;43m1\u001B[39;49m\u001B[43m,\u001B[49m\u001B[43m \u001B[49m\u001B[38;5;241;43m0\u001B[39;49m\u001B[43m)\u001B[49m\n",
      "Cell \u001B[0;32mIn[2], line 2\u001B[0m, in \u001B[0;36mdiv_nums\u001B[0;34m(a, b)\u001B[0m\n\u001B[1;32m      1\u001B[0m \u001B[38;5;28;01mdef\u001B[39;00m \u001B[38;5;21mdiv_nums\u001B[39m(a, b):\n\u001B[0;32m----> 2\u001B[0m     \u001B[38;5;28;01mreturn\u001B[39;00m \u001B[43ma\u001B[49m\u001B[43m \u001B[49m\u001B[38;5;241;43m/\u001B[39;49m\u001B[43m \u001B[49m\u001B[43mb\u001B[49m\n",
      "\u001B[0;31mZeroDivisionError\u001B[0m: division by zero"
     ]
    }
   ],
   "source": [
    "div_nums(1, 0)"
   ]
  },
  {
   "cell_type": "code",
   "execution_count": 4,
   "id": "65461e6c",
   "metadata": {},
   "outputs": [],
   "source": [
    "def div_nums(a, b):\n",
    "    try:\n",
    "        res = a / b\n",
    "        print(\n",
    "            \"res for a/b =\", \n",
    "            res,\n",
    "        )\n",
    "        return res\n",
    "    except ZeroDivisionError:\n",
    "        pass"
   ]
  },
  {
   "cell_type": "code",
   "execution_count": 5,
   "id": "7957b7fb",
   "metadata": {},
   "outputs": [
    {
     "name": "stdout",
     "output_type": "stream",
     "text": [
      "res for a/b = 0.5\n"
     ]
    },
    {
     "data": {
      "text/plain": [
       "0.5"
      ]
     },
     "execution_count": 5,
     "metadata": {},
     "output_type": "execute_result"
    }
   ],
   "source": [
    "div_nums(2, 4)"
   ]
  },
  {
   "cell_type": "code",
   "execution_count": 6,
   "id": "f32de82e",
   "metadata": {},
   "outputs": [],
   "source": [
    "div_nums(2, 0)"
   ]
  },
  {
   "cell_type": "code",
   "execution_count": 7,
   "id": "717c70ee",
   "metadata": {},
   "outputs": [],
   "source": [
    "from contextlib import suppress\n",
    "\n",
    "def div_nums(a, b):\n",
    "    with suppress(ZeroDivisionError):\n",
    "        res = a / b\n",
    "        print(\n",
    "            \"res for a/b =\", \n",
    "            res,\n",
    "        )"
   ]
  },
  {
   "cell_type": "code",
   "execution_count": 8,
   "id": "37aafb63",
   "metadata": {},
   "outputs": [
    {
     "name": "stdout",
     "output_type": "stream",
     "text": [
      "res for a/b = 2.0\n"
     ]
    }
   ],
   "source": [
    "div_nums(2, 1)"
   ]
  },
  {
   "cell_type": "code",
   "execution_count": 9,
   "id": "9eccbdd8",
   "metadata": {},
   "outputs": [],
   "source": [
    "div_nums(2, 0)"
   ]
  },
  {
   "cell_type": "code",
   "execution_count": null,
   "id": "eb557059",
   "metadata": {},
   "outputs": [],
   "source": []
  }
 ],
 "metadata": {
  "kernelspec": {
   "display_name": "Python 3 (ipykernel)",
   "language": "python",
   "name": "python3"
  },
  "language_info": {
   "codemirror_mode": {
    "name": "ipython",
    "version": 3
   },
   "file_extension": ".py",
   "mimetype": "text/x-python",
   "name": "python",
   "nbconvert_exporter": "python",
   "pygments_lexer": "ipython3",
   "version": "3.11.2"
  }
 },
 "nbformat": 4,
 "nbformat_minor": 5
}
