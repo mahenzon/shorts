{
 "cells": [
  {
   "cell_type": "markdown",
   "id": "f580c80a152f909d",
   "metadata": {
    "collapsed": false,
    "jupyter": {
     "outputs_hidden": false
    }
   },
   "source": [
    "# Python generator send"
   ]
  },
  {
   "cell_type": "code",
   "execution_count": 1,
   "id": "377fae902bd63f64",
   "metadata": {
    "collapsed": false,
    "jupyter": {
     "outputs_hidden": false
    }
   },
   "outputs": [],
   "source": [
    "def sum_gen():\n",
    "    total = 0\n",
    "    while True:\n",
    "        num = yield\n",
    "        total += num\n",
    "        print(total)"
   ]
  },
  {
   "cell_type": "code",
   "execution_count": 2,
   "id": "4dfa029f-b25a-41ac-b485-fb99c72e07c9",
   "metadata": {},
   "outputs": [
    {
     "name": "stdout",
     "output_type": "stream",
     "text": [
      "<generator object sum_gen at 0x103abe330>\n"
     ]
    }
   ],
   "source": [
    "g = sum_gen()\n",
    "print(g)\n",
    "next(g)"
   ]
  },
  {
   "cell_type": "code",
   "execution_count": 3,
   "id": "47cfb113-dae1-4c79-b145-485ceeb3d31c",
   "metadata": {},
   "outputs": [
    {
     "name": "stdout",
     "output_type": "stream",
     "text": [
      "2\n"
     ]
    }
   ],
   "source": [
    "g.send(2)"
   ]
  },
  {
   "cell_type": "code",
   "execution_count": 4,
   "id": "da36811b-64c0-48c2-9b53-79817e0fb1ec",
   "metadata": {},
   "outputs": [
    {
     "name": "stdout",
     "output_type": "stream",
     "text": [
      "5\n"
     ]
    }
   ],
   "source": [
    "g.send(3)"
   ]
  },
  {
   "cell_type": "code",
   "execution_count": 5,
   "id": "1c7a055c-5b4e-4efd-819d-8cab98da5b80",
   "metadata": {},
   "outputs": [],
   "source": [
    "def sum_gen():\n",
    "    total = 0\n",
    "    while True:\n",
    "        print(\"read\")\n",
    "        num = yield total\n",
    "        total += num\n",
    "        print(total)"
   ]
  },
  {
   "cell_type": "code",
   "execution_count": 6,
   "id": "1f2bc168-409b-4a15-9b1e-c134d2715921",
   "metadata": {},
   "outputs": [
    {
     "name": "stdout",
     "output_type": "stream",
     "text": [
      "read\n"
     ]
    },
    {
     "data": {
      "text/plain": [
       "0"
      ]
     },
     "execution_count": 6,
     "metadata": {},
     "output_type": "execute_result"
    }
   ],
   "source": [
    "g = sum_gen()\n",
    "next(g)"
   ]
  },
  {
   "cell_type": "code",
   "execution_count": 7,
   "id": "cfc4bcf9-5ed2-455e-9a7a-e313f2568778",
   "metadata": {},
   "outputs": [
    {
     "name": "stdout",
     "output_type": "stream",
     "text": [
      "4\n",
      "read\n"
     ]
    },
    {
     "data": {
      "text/plain": [
       "4"
      ]
     },
     "execution_count": 7,
     "metadata": {},
     "output_type": "execute_result"
    }
   ],
   "source": [
    "g.send(4)"
   ]
  },
  {
   "cell_type": "code",
   "execution_count": 8,
   "id": "ec544c7e-b2df-4425-b9e5-04562554ec92",
   "metadata": {},
   "outputs": [
    {
     "name": "stdout",
     "output_type": "stream",
     "text": [
      "9\n",
      "read\n"
     ]
    },
    {
     "data": {
      "text/plain": [
       "9"
      ]
     },
     "execution_count": 8,
     "metadata": {},
     "output_type": "execute_result"
    }
   ],
   "source": [
    "g.send(5)"
   ]
  },
  {
   "cell_type": "code",
   "execution_count": null,
   "id": "be013136-2415-47ef-b81d-dcdd888fa778",
   "metadata": {},
   "outputs": [],
   "source": []
  }
 ],
 "metadata": {
  "kernelspec": {
   "display_name": "Python 3 (ipykernel)",
   "language": "python",
   "name": "python3"
  },
  "language_info": {
   "codemirror_mode": {
    "name": "ipython",
    "version": 3
   },
   "file_extension": ".py",
   "mimetype": "text/x-python",
   "name": "python",
   "nbconvert_exporter": "python",
   "pygments_lexer": "ipython3",
   "version": "3.11.2"
  }
 },
 "nbformat": 4,
 "nbformat_minor": 5
}
