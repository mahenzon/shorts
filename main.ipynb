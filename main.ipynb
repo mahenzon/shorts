{
 "cells": [
  {
   "cell_type": "code",
   "execution_count": 1,
   "metadata": {},
   "outputs": [
    {
     "name": "stdout",
     "output_type": "stream",
     "text": [
      "1.2174585000029765 the Good\n",
      "1.273593207995873 the Bad\n",
      "1.423842667019926 the Ugly\n",
      "1.6717105829739012 the Nice\n"
     ]
    }
   ],
   "source": [
    "from timeit import timeit\n",
    "from functools import partial\n",
    "\n",
    "\n",
    "def who_is_who(nickname):\n",
    "    if nickname == \"the Good\":\n",
    "        return \"Clint Eastwood\"\n",
    "    elif nickname == \"the Bad\":\n",
    "        return \"Lee Van Cleef\"\n",
    "    elif nickname == \"the Ugly\":\n",
    "        return \"Eli Wallach\"\n",
    "    else:\n",
    "        return \"Unknown\"\n",
    "\n",
    "for nick in [\n",
    "        \"the Good\",\n",
    "        \"the Bad\",\n",
    "        \"the Ugly\",\n",
    "        \"the Nice\",\n",
    "    ]:\n",
    "    func = partial(who_is_who, nickname=nick)\n",
    "    print(timeit(func, number=10_000_000), nick)"
   ]
  },
  {
   "cell_type": "code",
   "execution_count": 2,
   "metadata": {},
   "outputs": [
    {
     "name": "stdout",
     "output_type": "stream",
     "text": [
      "1.4811278330162168 the Good\n",
      "1.3139547090395354 the Bad\n",
      "1.4732719169696793 the Ugly\n",
      "1.433435290993657 the Nice\n"
     ]
    }
   ],
   "source": [
    "def who_is_who(nickname):\n",
    "    if nickname == \"the Good\":\n",
    "        return \"Clint Eastwood\"\n",
    "    if nickname == \"the Bad\":\n",
    "        return \"Lee Van Cleef\"\n",
    "    if nickname == \"the Ugly\":\n",
    "        return \"Eli Wallach\"\n",
    "    return \"Unknown\"\n",
    "\n",
    "\n",
    "for nick in [\n",
    "        \"the Good\",\n",
    "        \"the Bad\",\n",
    "        \"the Ugly\",\n",
    "        \"the Nice\",\n",
    "    ]:\n",
    "    func = partial(who_is_who, nickname=nick)\n",
    "    print(timeit(func, number=10_000_000), nick)"
   ]
  },
  {
   "cell_type": "code",
   "execution_count": 2,
   "outputs": [],
   "source": [],
   "metadata": {
    "collapsed": false
   }
  }
 ],
 "metadata": {
  "kernelspec": {
   "display_name": "Python 3 (ipykernel)",
   "language": "python",
   "name": "python3"
  },
  "language_info": {
   "codemirror_mode": {
    "name": "ipython",
    "version": 3
   },
   "file_extension": ".py",
   "mimetype": "text/x-python",
   "name": "python",
   "nbconvert_exporter": "python",
   "pygments_lexer": "ipython3",
   "version": "3.10.4"
  }
 },
 "nbformat": 4,
 "nbformat_minor": 1
}
