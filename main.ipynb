{
 "cells": [
  {
   "cell_type": "markdown",
   "metadata": {},
   "source": [
    "## Python\n",
    "\n",
    "степень без функции"
   ]
  },
  {
   "cell_type": "code",
   "execution_count": 2,
   "metadata": {},
   "outputs": [
    {
     "data": {
      "text/plain": [
       "1024"
      ]
     },
     "execution_count": 2,
     "metadata": {},
     "output_type": "execute_result"
    }
   ],
   "source": [
    "num = 32 ** 2\n",
    "num"
   ]
  },
  {
   "cell_type": "code",
   "execution_count": 3,
   "metadata": {},
   "outputs": [
    {
     "data": {
      "text/plain": [
       "32.0"
      ]
     },
     "execution_count": 3,
     "metadata": {},
     "output_type": "execute_result"
    }
   ],
   "source": [
    "import math\n",
    "\n",
    "math.sqrt(num)"
   ]
  },
  {
   "cell_type": "code",
   "execution_count": 4,
   "metadata": {},
   "outputs": [
    {
     "data": {
      "text/plain": [
       "32.0"
      ]
     },
     "execution_count": 4,
     "metadata": {},
     "output_type": "execute_result"
    }
   ],
   "source": [
    "num ** 0.5"
   ]
  },
  {
   "cell_type": "code",
   "execution_count": 1,
   "metadata": {},
   "outputs": [
    {
     "name": "stdout",
     "output_type": "stream",
     "text": [
      "Person(age=42, name=Name(first='John', last='Smith', middle=None))\n"
     ]
    }
   ],
   "source": [
    "\n",
    "from dataclasses import dataclass\n",
    "\n",
    "\n",
    "@dataclass\n",
    "class Name:\n",
    "    first: str\n",
    "    last: str\n",
    "    middle: str | None = None\n",
    "\n",
    "\n",
    "@dataclass\n",
    "class Person:\n",
    "    age: int\n",
    "    name: Name\n",
    "\n",
    "\n",
    "name = Name(\"John\", \"Smith\")\n",
    "person = Person(age=42, name=name)\n",
    "\n",
    "print(person)"
   ]
  },
  {
   "cell_type": "code",
   "execution_count": 2,
   "outputs": [
    {
     "data": {
      "text/plain": "'John'"
     },
     "execution_count": 2,
     "metadata": {},
     "output_type": "execute_result"
    }
   ],
   "source": [
    "person.name.first"
   ],
   "metadata": {
    "collapsed": false
   }
  },
  {
   "cell_type": "code",
   "execution_count": 3,
   "outputs": [
    {
     "data": {
      "text/plain": "'Smith'"
     },
     "execution_count": 3,
     "metadata": {},
     "output_type": "execute_result"
    }
   ],
   "source": [
    "person.name.last"
   ],
   "metadata": {
    "collapsed": false
   }
  },
  {
   "cell_type": "code",
   "execution_count": 4,
   "outputs": [
    {
     "data": {
      "text/plain": "42"
     },
     "execution_count": 4,
     "metadata": {},
     "output_type": "execute_result"
    }
   ],
   "source": [
    "person.age"
   ],
   "metadata": {
    "collapsed": false
   }
  },
  {
   "cell_type": "code",
   "execution_count": 5,
   "outputs": [
    {
     "name": "stdout",
     "output_type": "stream",
     "text": [
      "operator.attrgetter('age')\n"
     ]
    }
   ],
   "source": [
    "from operator import attrgetter\n",
    "\n",
    "get_age = attrgetter(\"age\")\n",
    "print(get_age)"
   ],
   "metadata": {
    "collapsed": false
   }
  },
  {
   "cell_type": "code",
   "execution_count": 6,
   "outputs": [
    {
     "data": {
      "text/plain": "42"
     },
     "execution_count": 6,
     "metadata": {},
     "output_type": "execute_result"
    }
   ],
   "source": [
    "get_age(person)"
   ],
   "metadata": {
    "collapsed": false
   }
  },
  {
   "cell_type": "code",
   "execution_count": 7,
   "outputs": [
    {
     "data": {
      "text/plain": "Name(first='John', last='Smith', middle=None)"
     },
     "execution_count": 7,
     "metadata": {},
     "output_type": "execute_result"
    }
   ],
   "source": [
    "get_name = attrgetter(\"name\")\n",
    "get_name(person)"
   ],
   "metadata": {
    "collapsed": false
   }
  },
  {
   "cell_type": "code",
   "execution_count": 8,
   "outputs": [
    {
     "data": {
      "text/plain": "'John'"
     },
     "execution_count": 8,
     "metadata": {},
     "output_type": "execute_result"
    }
   ],
   "source": [
    "get_fname = attrgetter(\"name.first\")\n",
    "get_fname(person)"
   ],
   "metadata": {
    "collapsed": false
   }
  },
  {
   "cell_type": "code",
   "execution_count": 9,
   "outputs": [
    {
     "data": {
      "text/plain": "'Smith'"
     },
     "execution_count": 9,
     "metadata": {},
     "output_type": "execute_result"
    }
   ],
   "source": [
    "get_fname = attrgetter(\"name.last\")\n",
    "get_fname(person)"
   ],
   "metadata": {
    "collapsed": false
   }
  },
  {
   "cell_type": "code",
   "execution_count": 10,
   "outputs": [
    {
     "data": {
      "text/plain": "operator.attrgetter('name.first', 'name.last')"
     },
     "execution_count": 10,
     "metadata": {},
     "output_type": "execute_result"
    }
   ],
   "source": [
    "n = attrgetter(\"name.first\", \"name.last\")\n",
    "n"
   ],
   "metadata": {
    "collapsed": false
   }
  },
  {
   "cell_type": "code",
   "execution_count": 11,
   "outputs": [
    {
     "data": {
      "text/plain": "('John', 'Smith')"
     },
     "execution_count": 11,
     "metadata": {},
     "output_type": "execute_result"
    }
   ],
   "source": [
    "n(person)"
   ],
   "metadata": {
    "collapsed": false
   }
  },
  {
   "cell_type": "code",
   "execution_count": 12,
   "outputs": [
    {
     "data": {
      "text/plain": "('John', 'Smith', 42)"
     },
     "execution_count": 12,
     "metadata": {},
     "output_type": "execute_result"
    }
   ],
   "source": [
    "n_a = attrgetter(\"name.first\", \"name.last\", \"age\")\n",
    "n_a(person)"
   ],
   "metadata": {
    "collapsed": false
   }
  },
  {
   "cell_type": "code",
   "execution_count": null,
   "outputs": [],
   "source": [],
   "metadata": {
    "collapsed": false
   }
  },
  {
   "cell_type": "code",
   "execution_count": 34,
   "outputs": [],
   "source": [
    "from bisect import bisect, insort\n",
    "from pprint import pprint\n"
   ],
   "metadata": {
    "collapsed": false
   }
  },
  {
   "cell_type": "code",
   "execution_count": 35,
   "outputs": [
    {
     "name": "stdout",
     "output_type": "stream",
     "text": [
      "[(100, 'perl'),\n",
      " (200, 'tcl'),\n",
      " (400, 'lua'),\n",
      " (500, 'python')]\n"
     ]
    }
   ],
   "source": [
    "scores = [\n",
    "    (100, 'perl'),\n",
    "    (200, 'tcl'),\n",
    "    (400, 'lua'),\n",
    "    (500, 'python'),\n",
    "]\n",
    "pprint(scores, width=30)"
   ],
   "metadata": {
    "collapsed": false
   }
  },
  {
   "cell_type": "code",
   "execution_count": 33,
   "outputs": [
    {
     "name": "stdout",
     "output_type": "stream",
     "text": [
      "[(100, 'perl'),\n",
      " (200, 'tcl'),\n",
      " (300, 'ruby'),\n",
      " (300, 'ruby'),\n",
      " (400, 'lua'),\n",
      " (500, 'python')]\n"
     ]
    }
   ],
   "source": [
    "insort(scores, (300, 'ruby'))\n",
    "pprint(scores, width=30)"
   ],
   "metadata": {
    "collapsed": false
   }
  },
  {
   "cell_type": "code",
   "execution_count": 14,
   "outputs": [
    {
     "name": "stdout",
     "output_type": "stream",
     "text": [
      "[Movie(name='Jaws',\n",
      "       released=1975,\n",
      "       director='Spielberg'),\n",
      " Movie(name='Titanic',\n",
      "       released=1997,\n",
      "       director='Cameron'),\n",
      " Movie(name='The Birds',\n",
      "       released=1963,\n",
      "       director='Hitchcock'),\n",
      " Movie(name='Aliens',\n",
      "       released=1986,\n",
      "       director='Cameron')]\n"
     ]
    }
   ],
   "source": [
    "from dataclasses import dataclass\n",
    "from pprint import pprint\n",
    "\n",
    "\n",
    "@dataclass\n",
    "class Movie:\n",
    "    name: str\n",
    "    released: int\n",
    "    director: str\n",
    "\n",
    "\n",
    "movies = [\n",
    "    Movie('Jaws', 1975, 'Spielberg'),\n",
    "    Movie('Titanic', 1997, 'Cameron'),\n",
    "    Movie('The Birds', 1963, 'Hitchcock'),\n",
    "    Movie('Aliens', 1986, 'Cameron'),\n",
    "]\n",
    "pprint(movies, width=40)"
   ],
   "metadata": {
    "collapsed": false
   }
  },
  {
   "cell_type": "code",
   "execution_count": 15,
   "outputs": [
    {
     "name": "stdout",
     "output_type": "stream",
     "text": [
      "[Movie(name='The Birds',\n",
      "       released=1963,\n",
      "       director='Hitchcock'),\n",
      " Movie(name='Jaws',\n",
      "       released=1975,\n",
      "       director='Spielberg'),\n",
      " Movie(name='Aliens',\n",
      "       released=1986,\n",
      "       director='Cameron'),\n",
      " Movie(name='Titanic',\n",
      "       released=1997,\n",
      "       director='Cameron')]\n"
     ]
    }
   ],
   "source": [
    "# Find the first movie released after 1960\n",
    "by_year = attrgetter('released')\n",
    "movies.sort(key=by_year)\n",
    "pprint(movies, width=40)"
   ],
   "metadata": {
    "collapsed": false
   }
  },
  {
   "cell_type": "code",
   "execution_count": 16,
   "outputs": [],
   "source": [
    "from bisect import bisect, insort"
   ],
   "metadata": {
    "collapsed": false
   }
  },
  {
   "cell_type": "code",
   "execution_count": 24,
   "outputs": [
    {
     "data": {
      "text/plain": "0"
     },
     "execution_count": 24,
     "metadata": {},
     "output_type": "execute_result"
    }
   ],
   "source": [
    "bisect(movies, 1960, key=by_year)"
   ],
   "metadata": {
    "collapsed": false
   }
  },
  {
   "cell_type": "code",
   "execution_count": 26,
   "outputs": [
    {
     "data": {
      "text/plain": "2"
     },
     "execution_count": 26,
     "metadata": {},
     "output_type": "execute_result"
    }
   ],
   "source": [
    "bisect(movies, 1979, key=by_year)"
   ],
   "metadata": {
    "collapsed": false
   }
  },
  {
   "cell_type": "code",
   "execution_count": 27,
   "outputs": [
    {
     "data": {
      "text/plain": "1"
     },
     "execution_count": 27,
     "metadata": {},
     "output_type": "execute_result"
    }
   ],
   "source": [
    "bisect(movies, 1970, key=by_year)"
   ],
   "metadata": {
    "collapsed": false
   }
  },
  {
   "cell_type": "code",
   "execution_count": 28,
   "outputs": [
    {
     "data": {
      "text/plain": "Movie(name='Aliens', released=1986, director='Cameron')"
     },
     "execution_count": 28,
     "metadata": {},
     "output_type": "execute_result"
    }
   ],
   "source": [
    "movies[bisect(movies, 1979, key=by_year)]"
   ],
   "metadata": {
    "collapsed": false
   }
  },
  {
   "cell_type": "code",
   "execution_count": 29,
   "outputs": [
    {
     "name": "stdout",
     "output_type": "stream",
     "text": [
      "[Movie(name='The Birds',\n",
      "       released=1963,\n",
      "       director='Hitchcock'),\n",
      " Movie(name='Love Story',\n",
      "       released=1970,\n",
      "       director='Hiller'),\n",
      " Movie(name='Jaws',\n",
      "       released=1975,\n",
      "       director='Spielberg'),\n",
      " Movie(name='Aliens',\n",
      "       released=1986,\n",
      "       director='Cameron'),\n",
      " Movie(name='Titanic',\n",
      "       released=1997,\n",
      "       director='Cameron')]\n"
     ]
    }
   ],
   "source": [
    "romance = Movie('Love Story', 1970, 'Hiller')\n",
    "insort(movies, romance, key=by_year)\n",
    "pprint(movies, width=40)"
   ],
   "metadata": {
    "collapsed": false
   }
  },
  {
   "cell_type": "code",
   "execution_count": 37,
   "outputs": [
    {
     "name": "stdout",
     "output_type": "stream",
     "text": [
      "600\n"
     ]
    }
   ],
   "source": [
    "from operator import methodcaller\n",
    "\n",
    "# Define a class representing a rectangle\n",
    "class Rectangle:\n",
    "    def __init__(self, width, height):\n",
    "        self.width = width\n",
    "        self.height = height\n",
    "\n",
    "    def area(self, scale):\n",
    "        return self.width * self.height * scale\n",
    "\n",
    "# Create a rectangle object\n",
    "rect = Rectangle(10, 20)\n",
    "\n",
    "# Use methodcaller to call the area method with an additional argument\n",
    "area_func = methodcaller(\"area\", 3)\n",
    "result = area_func(rect)\n",
    "\n",
    "# Print the result\n",
    "print(result)"
   ],
   "metadata": {
    "collapsed": false
   }
  },
  {
   "cell_type": "code",
   "execution_count": null,
   "outputs": [],
   "source": [],
   "metadata": {
    "collapsed": false
   }
  }
 ],
 "metadata": {
  "kernelspec": {
   "display_name": "Python 3 (ipykernel)",
   "language": "python",
   "name": "python3"
  },
  "language_info": {
   "codemirror_mode": {
    "name": "ipython",
    "version": 3
   },
   "file_extension": ".py",
   "mimetype": "text/x-python",
   "name": "python",
   "nbconvert_exporter": "python",
   "pygments_lexer": "ipython3",
   "version": "3.11.2"
  }
 },
 "nbformat": 4,
 "nbformat_minor": 1
}
