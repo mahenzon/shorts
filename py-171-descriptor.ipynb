{
 "cells": [
  {
   "cell_type": "markdown",
   "id": "657c2057-ebf9-480e-b13b-13a0a566e55c",
   "metadata": {},
   "source": [
    "## py descriptor"
   ]
  },
  {
   "cell_type": "code",
   "execution_count": 1,
   "id": "84969a2656d23dac",
   "metadata": {
    "collapsed": false,
    "jupyter": {
     "outputs_hidden": false
    }
   },
   "outputs": [],
   "source": [
    "class UserEmailDescriptor:\n",
    "    def __init__(self, domain):\n",
    "        self.domain = domain\n",
    "        \n",
    "    def __get__(self, instance, owner):\n",
    "        return f\"{instance.username}@{self.domain}\""
   ]
  },
  {
   "cell_type": "code",
   "execution_count": 2,
   "id": "3f648265-bc0d-4a73-a9be-416372572a2c",
   "metadata": {},
   "outputs": [],
   "source": [
    "class User:\n",
    "    def __init__(self, username):\n",
    "        self.username = username\n",
    "    \n",
    "    email = UserEmailDescriptor(\"abc.com\")"
   ]
  },
  {
   "cell_type": "code",
   "execution_count": 3,
   "id": "30da8e72-74b1-4a3a-bfe8-46f8ba1447a0",
   "metadata": {},
   "outputs": [
    {
     "data": {
      "text/plain": [
       "'sam@abc.com'"
      ]
     },
     "execution_count": 3,
     "metadata": {},
     "output_type": "execute_result"
    }
   ],
   "source": [
    "user = User(\"sam\")\n",
    "user.email"
   ]
  },
  {
   "cell_type": "code",
   "execution_count": null,
   "id": "50516481-5812-4b98-8558-22dbdc81146f",
   "metadata": {},
   "outputs": [],
   "source": []
  }
 ],
 "metadata": {
  "kernelspec": {
   "display_name": "Python 3 (ipykernel)",
   "language": "python",
   "name": "python3"
  },
  "language_info": {
   "codemirror_mode": {
    "name": "ipython",
    "version": 3
   },
   "file_extension": ".py",
   "mimetype": "text/x-python",
   "name": "python",
   "nbconvert_exporter": "python",
   "pygments_lexer": "ipython3",
   "version": "3.11.2"
  }
 },
 "nbformat": 4,
 "nbformat_minor": 5
}
