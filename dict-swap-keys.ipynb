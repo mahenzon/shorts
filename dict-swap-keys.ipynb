{
 "cells": [
  {
   "cell_type": "code",
   "execution_count": null,
   "metadata": {},
   "outputs": [],
   "source": [
    "# Swap dict keys and values\n",
    "# Поменять местами \n",
    "#  ключи и значения \n",
    "#  в словаре"
   ]
  },
  {
   "cell_type": "code",
   "execution_count": null,
   "metadata": {},
   "outputs": [],
   "source": []
  },
  {
   "cell_type": "code",
   "execution_count": 1,
   "metadata": {},
   "outputs": [
    {
     "name": "stdout",
     "output_type": "stream",
     "text": [
      "{'Russia': 'Moscow', 'United Kingdom': 'London', 'France': 'Paris', 'Germany': 'Berlin', 'Japan': 'Tokyo'}\n"
     ]
    }
   ],
   "source": [
    "countries = {\n",
    "    \"Russia\": \"Moscow\",\n",
    "    \"United Kingdom\": \"London\",\n",
    "    \"France\": \"Paris\",\n",
    "    \"Germany\": \"Berlin\",\n",
    "    \"Japan\": \"Tokyo\",\n",
    "}\n",
    "print(countries)"
   ]
  },
  {
   "cell_type": "code",
   "execution_count": 2,
   "metadata": {},
   "outputs": [
    {
     "data": {
      "text/plain": [
       "{'Moscow': 'Russia',\n",
       " 'London': 'United Kingdom',\n",
       " 'Paris': 'France',\n",
       " 'Berlin': 'Germany',\n",
       " 'Tokyo': 'Japan'}"
      ]
     },
     "execution_count": 2,
     "metadata": {},
     "output_type": "execute_result"
    }
   ],
   "source": [
    "countries_swapped = {\n",
    "    value: key\n",
    "    for key, value\n",
    "    in countries.items()\n",
    "}\n",
    "countries_swapped"
   ]
  },
  {
   "cell_type": "code",
   "execution_count": null,
   "metadata": {},
   "outputs": [],
   "source": []
  }
 ],
 "metadata": {
  "kernelspec": {
   "display_name": "Python 3 (ipykernel)",
   "language": "python",
   "name": "python3"
  },
  "language_info": {
   "codemirror_mode": {
    "name": "ipython",
    "version": 3
   },
   "file_extension": ".py",
   "mimetype": "text/x-python",
   "name": "python",
   "nbconvert_exporter": "python",
   "pygments_lexer": "ipython3",
   "version": "3.10.4"
  }
 },
 "nbformat": 4,
 "nbformat_minor": 1
}
