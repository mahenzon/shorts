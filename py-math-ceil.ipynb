{
 "cells": [
  {
   "cell_type": "code",
   "execution_count": 2,
   "metadata": {
    "collapsed": true
   },
   "outputs": [
    {
     "name": "stdout",
     "output_type": "stream",
     "text": [
      "x rounded up: 5\n",
      "y rounded up: 6\n"
     ]
    }
   ],
   "source": [
    "\n",
    "\n",
    "x = 4.3\n",
    "y = 5.7\n"
   ]
  },
  {
   "cell_type": "code",
   "execution_count": 3,
   "outputs": [
    {
     "name": "stdout",
     "output_type": "stream",
     "text": [
      "x rounded up: 5\n",
      "y rounded up: 6\n"
     ]
    }
   ],
   "source": [
    "import math\n",
    "# use math.ceil() to round up to the nearest integer\n",
    "x_rounded_up = math.ceil(x)\n",
    "y_rounded_up = math.ceil(y)\n",
    "\n",
    "print(\"x rounded up:\", x_rounded_up)\n",
    "print(\"y rounded up:\", y_rounded_up)"
   ],
   "metadata": {
    "collapsed": false
   }
  },
  {
   "cell_type": "code",
   "execution_count": null,
   "outputs": [],
   "source": [],
   "metadata": {
    "collapsed": false
   }
  }
 ],
 "metadata": {
  "kernelspec": {
   "display_name": "Python 3",
   "language": "python",
   "name": "python3"
  },
  "language_info": {
   "codemirror_mode": {
    "name": "ipython",
    "version": 2
   },
   "file_extension": ".py",
   "mimetype": "text/x-python",
   "name": "python",
   "nbconvert_exporter": "python",
   "pygments_lexer": "ipython2",
   "version": "2.7.6"
  }
 },
 "nbformat": 4,
 "nbformat_minor": 0
}
