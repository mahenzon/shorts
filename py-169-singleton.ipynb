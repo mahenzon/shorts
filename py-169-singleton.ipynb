{
 "cells": [
  {
   "cell_type": "markdown",
   "metadata": {
    "collapsed": false,
    "jupyter": {
     "outputs_hidden": false
    }
   },
   "source": [
    "## Singleton"
   ]
  },
  {
   "cell_type": "code",
   "execution_count": 1,
   "metadata": {
    "collapsed": false,
    "jupyter": {
     "outputs_hidden": false
    }
   },
   "outputs": [
    {
     "name": "stdout",
     "output_type": "stream",
     "text": [
      "True\n",
      "spam spam\n",
      "eggs eggs\n"
     ]
    }
   ],
   "source": [
    "# классика\n",
    "class Singleton:\n",
    "    def __new__(cls):\n",
    "        if not hasattr(cls, 'instance'):\n",
    "            cls.instance = super(\n",
    "            ).__new__(cls)\n",
    "        return cls.instance\n",
    "\n",
    "    foo = \"spam\"\n",
    "\n",
    "\n",
    "s1 = Singleton()\n",
    "s2 = Singleton()\n",
    "\n",
    "print(s1 is s2)\n",
    "print(s1.foo, s2.foo)\n",
    "s1.foo = \"eggs\"\n",
    "print(s1.foo, s2.foo)"
   ]
  },
  {
   "cell_type": "code",
   "execution_count": null,
   "metadata": {},
   "outputs": [],
   "source": []
  }
 ],
 "metadata": {
  "kernelspec": {
   "display_name": "Python 3 (ipykernel)",
   "language": "python",
   "name": "python3"
  },
  "language_info": {
   "codemirror_mode": {
    "name": "ipython",
    "version": 3
   },
   "file_extension": ".py",
   "mimetype": "text/x-python",
   "name": "python",
   "nbconvert_exporter": "python",
   "pygments_lexer": "ipython3",
   "version": "3.11.2"
  }
 },
 "nbformat": 4,
 "nbformat_minor": 4
}
