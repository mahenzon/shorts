{
 "cells": [
  {
   "cell_type": "markdown",
   "id": "01aedaa6-c9ba-4184-b331-d72d802641d0",
   "metadata": {},
   "source": [
    "## py threading"
   ]
  },
  {
   "cell_type": "code",
   "execution_count": 1,
   "id": "c1905a3c8daf9e5b",
   "metadata": {
    "collapsed": false,
    "jupyter": {
     "outputs_hidden": false
    }
   },
   "outputs": [],
   "source": [
    "from time import sleep\n",
    "\n",
    "\n",
    "def get_foo():\n",
    "    print(\"get foo\")\n",
    "    sleep(1)\n",
    "    print(\"done foo\")\n",
    "\n",
    "\n",
    "def get_bar():\n",
    "    print(\"get bar\")\n",
    "    sleep(1)\n",
    "    print(\"done bar\")"
   ]
  },
  {
   "cell_type": "code",
   "execution_count": 2,
   "id": "4691baac-262d-4f0a-9b09-0e23ce062f96",
   "metadata": {},
   "outputs": [],
   "source": [
    "def main():\n",
    "    get_foo()\n",
    "    get_bar()"
   ]
  },
  {
   "cell_type": "code",
   "execution_count": 3,
   "id": "f6e73d59-1fd8-41cf-80ac-cbaec6535fee",
   "metadata": {},
   "outputs": [
    {
     "name": "stdout",
     "output_type": "stream",
     "text": [
      "get foo\n",
      "done foo\n",
      "get bar\n",
      "done bar\n",
      "CPU times: user 2.42 ms, sys: 2.17 ms, total: 4.6 ms\n",
      "Wall time: 2.01 s\n"
     ]
    }
   ],
   "source": [
    "%%time\n",
    "\n",
    "main()"
   ]
  },
  {
   "cell_type": "code",
   "execution_count": 4,
   "id": "343c91ac-a091-4c1e-995d-669a468003b1",
   "metadata": {},
   "outputs": [],
   "source": [
    "import threading\n",
    "\n",
    "def main():\n",
    "    thread_foo = threading.Thread(\n",
    "        target=get_foo)\n",
    "    thread_bar = threading.Thread(\n",
    "        target=get_bar)\n",
    "    print(\"prepared threads\")\n",
    "    thread_foo.start()\n",
    "    thread_bar.start()\n",
    "    print(\"started threads\")\n",
    "    thread_foo.join()\n",
    "    thread_bar.join()\n",
    "    print(\"done\")"
   ]
  },
  {
   "cell_type": "code",
   "execution_count": 5,
   "id": "b7682ebf-f85d-4740-9680-d2d288cd1599",
   "metadata": {},
   "outputs": [
    {
     "name": "stdout",
     "output_type": "stream",
     "text": [
      "prepared threads\n",
      "get foo\n",
      "get bar\n",
      "started threads\n",
      "done foodone bar\n",
      "\n",
      "done\n",
      "CPU times: user 2.02 ms, sys: 2.48 ms, total: 4.49 ms\n",
      "Wall time: 1.01 s\n"
     ]
    }
   ],
   "source": [
    "%%time\n",
    "\n",
    "main()"
   ]
  },
  {
   "cell_type": "code",
   "execution_count": null,
   "id": "b911efbc-40a6-4070-82bf-fc8d3f67bf2b",
   "metadata": {},
   "outputs": [],
   "source": []
  }
 ],
 "metadata": {
  "kernelspec": {
   "display_name": "Python 3 (ipykernel)",
   "language": "python",
   "name": "python3"
  },
  "language_info": {
   "codemirror_mode": {
    "name": "ipython",
    "version": 3
   },
   "file_extension": ".py",
   "mimetype": "text/x-python",
   "name": "python",
   "nbconvert_exporter": "python",
   "pygments_lexer": "ipython3",
   "version": "3.11.2"
  }
 },
 "nbformat": 4,
 "nbformat_minor": 5
}
