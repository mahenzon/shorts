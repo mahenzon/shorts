{
 "cells": [
  {
   "cell_type": "code",
   "execution_count": 1,
   "id": "8cf4e6fc-a513-40f1-a1e1-7169c463417b",
   "metadata": {},
   "outputs": [],
   "source": [
    "# Python\n",
    "# join url path"
   ]
  },
  {
   "cell_type": "code",
   "execution_count": null,
   "id": "426b05f7",
   "metadata": {},
   "outputs": [],
   "source": []
  },
  {
   "cell_type": "code",
   "execution_count": 2,
   "id": "3887d9e7",
   "metadata": {},
   "outputs": [],
   "source": [
    "url = 'http://abc.com/foobar/Python.html'\n",
    "faq_page = 'FAQ.html'"
   ]
  },
  {
   "cell_type": "code",
   "execution_count": 3,
   "id": "231f469f",
   "metadata": {},
   "outputs": [
    {
     "data": {
      "text/plain": [
       "'http://abc.com/foobar/Python.htmlFAQ.html'"
      ]
     },
     "execution_count": 3,
     "metadata": {},
     "output_type": "execute_result"
    }
   ],
   "source": [
    "url + faq_page"
   ]
  },
  {
   "cell_type": "code",
   "execution_count": 4,
   "id": "93006cce",
   "metadata": {},
   "outputs": [
    {
     "data": {
      "text/plain": [
       "'http://abc.com/foobar/FAQ.html'"
      ]
     },
     "execution_count": 4,
     "metadata": {},
     "output_type": "execute_result"
    }
   ],
   "source": [
    "from urllib.parse import urljoin\n",
    "\n",
    "urljoin(url, faq_page)"
   ]
  },
  {
   "cell_type": "code",
   "execution_count": 5,
   "id": "f83590fe",
   "metadata": {},
   "outputs": [
    {
     "data": {
      "text/plain": [
       "'http://abc.com/foobar/spameggs/index.html'"
      ]
     },
     "execution_count": 5,
     "metadata": {},
     "output_type": "execute_result"
    }
   ],
   "source": [
    "urljoin(url, \"spameggs/index.html\")"
   ]
  },
  {
   "cell_type": "code",
   "execution_count": 7,
   "id": "0587f9c9",
   "metadata": {},
   "outputs": [
    {
     "data": {
      "text/plain": [
       "'https://www.python.org/about/'"
      ]
     },
     "execution_count": 7,
     "metadata": {},
     "output_type": "execute_result"
    }
   ],
   "source": [
    "urljoin(\n",
    "    \"https://abc.com/foobar/Python.html\",\n",
    "    \"//www.python.org/about/\",\n",
    ")"
   ]
  },
  {
   "cell_type": "code",
   "execution_count": null,
   "id": "7e4c1780",
   "metadata": {},
   "outputs": [],
   "source": []
  }
 ],
 "metadata": {
  "kernelspec": {
   "display_name": "Python 3 (ipykernel)",
   "language": "python",
   "name": "python3"
  },
  "language_info": {
   "codemirror_mode": {
    "name": "ipython",
    "version": 3
   },
   "file_extension": ".py",
   "mimetype": "text/x-python",
   "name": "python",
   "nbconvert_exporter": "python",
   "pygments_lexer": "ipython3",
   "version": "3.11.2"
  }
 },
 "nbformat": 4,
 "nbformat_minor": 5
}
