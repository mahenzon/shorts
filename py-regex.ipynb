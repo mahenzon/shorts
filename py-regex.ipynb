{
 "cells": [
  {
   "cell_type": "code",
   "execution_count": 1,
   "metadata": {},
   "outputs": [],
   "source": [
    "# Python regex\n",
    "# Регулярные выражения в Python"
   ]
  },
  {
   "cell_type": "code",
   "execution_count": 29,
   "metadata": {},
   "outputs": [],
   "source": [
    "user_bio = \"I have 2 dogs and 5 cats\""
   ]
  },
  {
   "cell_type": "code",
   "execution_count": 37,
   "outputs": [],
   "source": [
    "import re"
   ],
   "metadata": {
    "collapsed": false
   }
  },
  {
   "cell_type": "code",
   "execution_count": 38,
   "outputs": [
    {
     "data": {
      "text/plain": "re.compile(r'(\\d+) ([a-z]+)', re.UNICODE)"
     },
     "execution_count": 38,
     "metadata": {},
     "output_type": "execute_result"
    }
   ],
   "source": [
    "pattern = r'(\\d+) ([a-z]+)'\n",
    "regex = re.compile(pattern)\n",
    "regex"
   ],
   "metadata": {
    "collapsed": false
   }
  },
  {
   "cell_type": "code",
   "execution_count": 41,
   "outputs": [
    {
     "name": "stdout",
     "output_type": "stream",
     "text": [
      "('2', 'dogs')\n",
      "pet: dogs ; count: 2\n",
      "('5', 'cats')\n",
      "pet: cats ; count: 5\n"
     ]
    }
   ],
   "source": [
    "result = regex.findall(user_bio)\n",
    "for item in result:\n",
    "    print(item)\n",
    "    print(\n",
    "        \"pet:\", item[1], \";\",\n",
    "        \"count:\", item[0],\n",
    "    )"
   ],
   "metadata": {
    "collapsed": false
   }
  },
  {
   "cell_type": "code",
   "execution_count": 42,
   "outputs": [
    {
     "data": {
      "text/plain": "re.compile(r'(?P<count>\\d+) (?P<animal>[a-z]+)', re.UNICODE)"
     },
     "execution_count": 42,
     "metadata": {},
     "output_type": "execute_result"
    }
   ],
   "source": [
    "pattern = r'(?P<count>\\d+) (?P<animal>[a-z]+)'\n",
    "regex = re.compile(pattern)\n",
    "regex"
   ],
   "metadata": {
    "collapsed": false
   }
  },
  {
   "cell_type": "code",
   "execution_count": null,
   "outputs": [],
   "source": [
    "result = regex.finditer(user_bio)\n",
    "for item in result:\n",
    "    print(\n",
    "        \"pet:\", item.group(\"animal\"), \";\",\n",
    "        \"count:\", item.group(\"count\")\n",
    "    )"
   ],
   "metadata": {
    "collapsed": false
   }
  }
 ],
 "metadata": {
  "kernelspec": {
   "display_name": "Python 3 (ipykernel)",
   "language": "python",
   "name": "python3"
  },
  "language_info": {
   "codemirror_mode": {
    "name": "ipython",
    "version": 3
   },
   "file_extension": ".py",
   "mimetype": "text/x-python",
   "name": "python",
   "nbconvert_exporter": "python",
   "pygments_lexer": "ipython3",
   "version": "3.11.2"
  }
 },
 "nbformat": 4,
 "nbformat_minor": 1
}
