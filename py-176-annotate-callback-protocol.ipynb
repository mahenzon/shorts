{
 "cells": [
  {
   "cell_type": "markdown",
   "source": [
    "# Python protocol annotation"
   ],
   "metadata": {
    "collapsed": false
   },
   "id": "3263be349463de77"
  },
  {
   "cell_type": "code",
   "execution_count": 1,
   "outputs": [],
   "source": [
    "from typing import Protocol\n",
    "\n",
    "\n",
    "class UserCallbackProto(Protocol):\n",
    "    def __call__(\n",
    "        self,\n",
    "        name: str,\n",
    "        age: int,\n",
    "    ) -> dict:\n",
    "        ..."
   ],
   "metadata": {
    "collapsed": false,
    "ExecuteTime": {
     "end_time": "2023-09-01T19:30:49.089331Z",
     "start_time": "2023-09-01T19:30:49.083003Z"
    }
   },
   "id": "69f3b30c895829c3"
  },
  {
   "cell_type": "code",
   "execution_count": null,
   "outputs": [],
   "source": [
    "def handler(\n",
    "    data: dict,\n",
    "    callback: UserCallbackProto,\n",
    "):\n",
    "    name: str = data[\"user_name\"]\n",
    "    age: int = data[\"age_name\"]\n",
    "    res = callback(name=name, age=age)\n",
    "    res.get()"
   ],
   "metadata": {
    "collapsed": false
   },
   "id": "f495dd0024d56a0c"
  }
 ],
 "metadata": {
  "kernelspec": {
   "display_name": "Python 3",
   "language": "python",
   "name": "python3"
  },
  "language_info": {
   "codemirror_mode": {
    "name": "ipython",
    "version": 2
   },
   "file_extension": ".py",
   "mimetype": "text/x-python",
   "name": "python",
   "nbconvert_exporter": "python",
   "pygments_lexer": "ipython2",
   "version": "2.7.6"
  }
 },
 "nbformat": 4,
 "nbformat_minor": 5
}
