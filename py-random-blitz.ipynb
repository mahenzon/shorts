{
 "cells": [
  {
   "cell_type": "code",
   "execution_count": 1,
   "metadata": {
    "collapsed": true
   },
   "outputs": [
    {
     "name": "stdout",
     "output_type": "stream",
     "text": [
      "mango\n"
     ]
    }
   ],
   "source": [
    "import random\n",
    "\n",
    "my_list = ['apple', 'banana', 'orange', 'mango']\n",
    "random_fruit = random.choice(my_list)  # chooses a random element from the list\n",
    "print(random_fruit)\n"
   ]
  },
  {
   "cell_type": "code",
   "execution_count": 6,
   "outputs": [
    {
     "name": "stdout",
     "output_type": "stream",
     "text": [
      "['orange', 'strawberry', 'orange', 'banana']\n"
     ]
    }
   ],
   "source": [
    "import random\n",
    "\n",
    "my_list = [\n",
    "    'apple',\n",
    "    'banana',\n",
    "    'orange',\n",
    "    'mango',\n",
    "    'strawberry',\n",
    "    'pineapple',\n",
    "]\n",
    "random_fruits = random.choices(my_list, k=4)\n",
    "print(random_fruits)\n"
   ],
   "metadata": {
    "collapsed": false
   }
  },
  {
   "cell_type": "code",
   "execution_count": 7,
   "outputs": [
    {
     "name": "stdout",
     "output_type": "stream",
     "text": [
      "['red', 'blue', 'orange']\n"
     ]
    }
   ],
   "source": [
    "import random\n",
    "my_list = ['red', 'blue', 'green', 'yellow', 'orange']\n",
    "random_subset = random.sample(my_list, 3)\n",
    "print(random_subset)"
   ],
   "metadata": {
    "collapsed": false
   }
  },
  {
   "cell_type": "code",
   "execution_count": 8,
   "outputs": [
    {
     "name": "stdout",
     "output_type": "stream",
     "text": [
      "19\n"
     ]
    }
   ],
   "source": [
    "import random\n",
    "some_num = random.randrange(10, 21, 3)\n",
    "print(some_num)"
   ],
   "metadata": {
    "collapsed": false
   }
  },
  {
   "cell_type": "code",
   "execution_count": null,
   "outputs": [],
   "source": [],
   "metadata": {
    "collapsed": false
   }
  }
 ],
 "metadata": {
  "kernelspec": {
   "display_name": "Python 3",
   "language": "python",
   "name": "python3"
  },
  "language_info": {
   "codemirror_mode": {
    "name": "ipython",
    "version": 2
   },
   "file_extension": ".py",
   "mimetype": "text/x-python",
   "name": "python",
   "nbconvert_exporter": "python",
   "pygments_lexer": "ipython2",
   "version": "2.7.6"
  }
 },
 "nbformat": 4,
 "nbformat_minor": 0
}
