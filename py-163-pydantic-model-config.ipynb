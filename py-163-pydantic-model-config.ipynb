{
 "cells": [
  {
   "cell_type": "markdown",
   "metadata": {},
   "source": [
    "# Pydantic V2\n",
    "## Model Config"
   ]
  },
  {
   "cell_type": "code",
   "execution_count": 7,
   "metadata": {},
   "outputs": [],
   "source": [
    "from pydantic import (\n",
    "    BaseModel,\n",
    "    ConfigDict,\n",
    ")\n",
    "\n",
    "\n",
    "class User(BaseModel):\n",
    "    model_config = ConfigDict(\n",
    "        str_to_lower=True,\n",
    "    )\n",
    "\n",
    "    username: str\n",
    "    site: str"
   ]
  },
  {
   "cell_type": "code",
   "execution_count": 9,
   "metadata": {},
   "outputs": [
    {
     "name": "stdout",
     "output_type": "stream",
     "text": [
      "username='suren' site='example.com'\n",
      "username='suren' site='www.com'\n"
     ]
    }
   ],
   "source": [
    "user = User(\n",
    "    username=\"Suren\",\n",
    "    site=\"Example.Com\",\n",
    ")\n",
    "print(user)\n",
    "user.site = \"www.com\"\n",
    "print(user)"
   ]
  },
  {
   "cell_type": "code",
   "execution_count": 10,
   "metadata": {},
   "outputs": [],
   "source": [
    "class SubUser(User):\n",
    "    model_config = ConfigDict(\n",
    "        frozen=True,\n",
    "    )\n",
    "\n",
    "    age: int"
   ]
  },
  {
   "cell_type": "code",
   "execution_count": 11,
   "metadata": {},
   "outputs": [
    {
     "name": "stdout",
     "output_type": "stream",
     "text": [
      "username='john' site='abc.com' age=42\n"
     ]
    }
   ],
   "source": [
    "u = SubUser(\n",
    "    username=\"John\",\n",
    "    site=\"abc.com\",\n",
    "    age=42,\n",
    ")\n",
    "print(u)\n"
   ]
  },
  {
   "cell_type": "code",
   "execution_count": 12,
   "metadata": {},
   "outputs": [
    {
     "ename": "ValidationError",
     "evalue": "1 validation error for SubUser\nage\n  Instance is frozen [type=frozen_instance, input_value=20, input_type=int]\n    For further information visit https://errors.pydantic.dev/2.0.3/v/frozen_instance",
     "output_type": "error",
     "traceback": [
      "\u001B[0;31m---------------------------------------------------------------------------\u001B[0m",
      "\u001B[0;31mValidationError\u001B[0m                           Traceback (most recent call last)",
      "Cell \u001B[0;32mIn[12], line 1\u001B[0m\n\u001B[0;32m----> 1\u001B[0m \u001B[43mu\u001B[49m\u001B[38;5;241;43m.\u001B[39;49m\u001B[43mage\u001B[49m \u001B[38;5;241m=\u001B[39m \u001B[38;5;241m20\u001B[39m\n",
      "File \u001B[0;32m~/MyFiles/suren/shorts/venv/lib/python3.11/site-packages/pydantic/main.py:734\u001B[0m, in \u001B[0;36mBaseModel.__setattr__\u001B[0;34m(self, name, value)\u001B[0m\n\u001B[1;32m    728\u001B[0m \u001B[38;5;28;01melif\u001B[39;00m \u001B[38;5;28mself\u001B[39m\u001B[38;5;241m.\u001B[39mmodel_config\u001B[38;5;241m.\u001B[39mget(\u001B[38;5;124m'\u001B[39m\u001B[38;5;124mfrozen\u001B[39m\u001B[38;5;124m'\u001B[39m, \u001B[38;5;28;01mNone\u001B[39;00m):\n\u001B[1;32m    729\u001B[0m     error: pydantic_core\u001B[38;5;241m.\u001B[39mInitErrorDetails \u001B[38;5;241m=\u001B[39m {\n\u001B[1;32m    730\u001B[0m         \u001B[38;5;124m'\u001B[39m\u001B[38;5;124mtype\u001B[39m\u001B[38;5;124m'\u001B[39m: \u001B[38;5;124m'\u001B[39m\u001B[38;5;124mfrozen_instance\u001B[39m\u001B[38;5;124m'\u001B[39m,\n\u001B[1;32m    731\u001B[0m         \u001B[38;5;124m'\u001B[39m\u001B[38;5;124mloc\u001B[39m\u001B[38;5;124m'\u001B[39m: (name,),\n\u001B[1;32m    732\u001B[0m         \u001B[38;5;124m'\u001B[39m\u001B[38;5;124minput\u001B[39m\u001B[38;5;124m'\u001B[39m: value,\n\u001B[1;32m    733\u001B[0m     }\n\u001B[0;32m--> 734\u001B[0m     \u001B[38;5;28;01mraise\u001B[39;00m pydantic_core\u001B[38;5;241m.\u001B[39mValidationError\u001B[38;5;241m.\u001B[39mfrom_exception_data(\u001B[38;5;28mself\u001B[39m\u001B[38;5;241m.\u001B[39m\u001B[38;5;18m__class__\u001B[39m\u001B[38;5;241m.\u001B[39m\u001B[38;5;18m__name__\u001B[39m, [error])\n\u001B[1;32m    736\u001B[0m attr \u001B[38;5;241m=\u001B[39m \u001B[38;5;28mgetattr\u001B[39m(\u001B[38;5;28mself\u001B[39m\u001B[38;5;241m.\u001B[39m\u001B[38;5;18m__class__\u001B[39m, name, \u001B[38;5;28;01mNone\u001B[39;00m)\n\u001B[1;32m    737\u001B[0m \u001B[38;5;28;01mif\u001B[39;00m \u001B[38;5;28misinstance\u001B[39m(attr, \u001B[38;5;28mproperty\u001B[39m):\n",
      "\u001B[0;31mValidationError\u001B[0m: 1 validation error for SubUser\nage\n  Instance is frozen [type=frozen_instance, input_value=20, input_type=int]\n    For further information visit https://errors.pydantic.dev/2.0.3/v/frozen_instance"
     ]
    }
   ],
   "source": [
    "u.age = 20"
   ]
  },
  {
   "cell_type": "code",
   "execution_count": null,
   "metadata": {},
   "outputs": [],
   "source": []
  }
 ],
 "metadata": {
  "kernelspec": {
   "display_name": "Python 3 (ipykernel)",
   "language": "python",
   "name": "python3"
  },
  "language_info": {
   "codemirror_mode": {
    "name": "ipython",
    "version": 3
   },
   "file_extension": ".py",
   "mimetype": "text/x-python",
   "name": "python",
   "nbconvert_exporter": "python",
   "pygments_lexer": "ipython3",
   "version": "3.11.2"
  }
 },
 "nbformat": 4,
 "nbformat_minor": 1
}
