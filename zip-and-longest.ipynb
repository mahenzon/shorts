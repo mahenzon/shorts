{
 "cells": [
  {
   "cell_type": "code",
   "execution_count": 1,
   "metadata": {},
   "outputs": [],
   "source": []
  },
  {
   "cell_type": "code",
   "execution_count": null,
   "metadata": {},
   "outputs": [],
   "source": [
    "names = [\n",
    "    'John',\n",
    "    'Jane',\n",
    "    'Tom',\n",
    "    'Sara',\n",
    "]\n",
    "ages = [\n",
    "    35,\n",
    "    28,\n",
    "    42,\n",
    "    31,\n",
    "]"
   ]
  },
  {
   "cell_type": "code",
   "execution_count": 7,
   "metadata": {},
   "outputs": [],
   "source": [
    "names = [\n",
    "    'John',\n",
    "    'Jane',\n",
    "    'Tom',\n",
    "    'Sara',\n",
    "    'Kyle',\n",
    "    'Sam',\n",
    "]\n",
    "ages = [\n",
    "    35,\n",
    "    28,\n",
    "    42,\n",
    "    31,\n",
    "    44,\n",
    "]"
   ]
  },
  {
   "cell_type": "code",
   "execution_count": 8,
   "metadata": {},
   "outputs": [
    {
     "name": "stdout",
     "output_type": "stream",
     "text": [
      "John is 35 y.o.\n",
      "Jane is 28 y.o.\n",
      "Tom is 42 y.o.\n",
      "Sara is 31 y.o.\n",
      "Kyle is 44 y.o.\n"
     ]
    }
   ],
   "source": [
    "for name, age in zip(names, ages):\n",
    "    print(f\"{name} is {age} y.o.\")"
   ]
  },
  {
   "cell_type": "code",
   "execution_count": 6,
   "metadata": {},
   "outputs": [
    {
     "name": "stdout",
     "output_type": "stream",
     "text": [
      "John is 35 y.o.\n",
      "Jane is 28 y.o.\n",
      "Tom is 42 y.o.\n",
      "Sara is 31 y.o.\n",
      "- is 44 y.o.\n"
     ]
    }
   ],
   "source": [
    "from itertools import zip_longest\n",
    "\n",
    "for name, age in zip_longest(\n",
    "        names,\n",
    "        ages,\n",
    "        fillvalue='-',\n",
    "):\n",
    "    print(f\"{name} is {age} y.o.\")"
   ]
  },
  {
   "cell_type": "code",
   "execution_count": null,
   "metadata": {},
   "outputs": [],
   "source": []
  }
 ],
 "metadata": {
  "kernelspec": {
   "display_name": "Python 3 (ipykernel)",
   "language": "python",
   "name": "python3"
  },
  "language_info": {
   "codemirror_mode": {
    "name": "ipython",
    "version": 3
   },
   "file_extension": ".py",
   "mimetype": "text/x-python",
   "name": "python",
   "nbconvert_exporter": "python",
   "pygments_lexer": "ipython3",
   "version": "3.10.4"
  }
 },
 "nbformat": 4,
 "nbformat_minor": 1
}
