{
 "cells": [
  {
   "cell_type": "code",
   "execution_count": null,
   "metadata": {},
   "outputs": [],
   "source": [
    "# Кастомное определение\n",
    "# строкового представления"
   ]
  },
  {
   "cell_type": "code",
   "execution_count": null,
   "metadata": {},
   "outputs": [],
   "source": []
  },
  {
   "cell_type": "code",
   "execution_count": 12,
   "metadata": {},
   "outputs": [
    {
     "name": "stdout",
     "output_type": "stream",
     "text": [
      "Rectangle(a=1, b=2)\n",
      "Rectangle(a=4, b=6)\n",
      "\n",
      "[Rectangle(a=1, b=2), Rectangle(a=4, b=6)]\n"
     ]
    }
   ],
   "source": [
    "class Rectangle:\n",
    "    def __init__(self, a, b):\n",
    "        self.a = a\n",
    "        self.b = b\n",
    "\n",
    "    def __str__(self):\n",
    "        return (\n",
    "            f\"Rectangle(a={self.a}\"\n",
    "            f\", b={self.b})\"\n",
    "        )\n",
    "    \n",
    "    def __repr__(self):\n",
    "        return str(self)\n",
    "        \n",
    "r1 = Rectangle(1, 2)\n",
    "print(r1)\n",
    "r2 = Rectangle(4, 6)\n",
    "print(r2)\n",
    "\n",
    "print()\n",
    "print([r1, r2])"
   ]
  },
  {
   "cell_type": "code",
   "execution_count": null,
   "metadata": {},
   "outputs": [],
   "source": []
  }
 ],
 "metadata": {
  "kernelspec": {
   "display_name": "Python 3 (ipykernel)",
   "language": "python",
   "name": "python3"
  },
  "language_info": {
   "codemirror_mode": {
    "name": "ipython",
    "version": 3
   },
   "file_extension": ".py",
   "mimetype": "text/x-python",
   "name": "python",
   "nbconvert_exporter": "python",
   "pygments_lexer": "ipython3",
   "version": "3.10.4"
  }
 },
 "nbformat": 4,
 "nbformat_minor": 1
}
