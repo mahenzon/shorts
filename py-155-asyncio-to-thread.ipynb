{
 "cells": [
  {
   "cell_type": "code",
   "execution_count": 1,
   "metadata": {},
   "outputs": [],
   "source": [
    "import asyncio\n",
    "\n",
    "import time\n",
    "from timeit import default_timer"
   ]
  },
  {
   "cell_type": "code",
   "execution_count": 2,
   "metadata": {},
   "outputs": [],
   "source": [
    "async def fetch_from_db():\n",
    "    print(\"start fetching from db\")\n",
    "    start = default_timer()\n",
    "    # any asyncio operation\n",
    "    await asyncio.sleep(1)\n",
    "    elapsed = (default_timer() - start)\n",
    "    print(\"fetched from db, took:\", elapsed)\n",
    "\n",
    "\n",
    "def blocking_io():\n",
    "    print(\"start blocking_io\")\n",
    "    start = default_timer()\n",
    "    # any IO-bound operation,\n",
    "    # such as file operations.\n",
    "    time.sleep(1)\n",
    "    elapsed = (default_timer() - start)\n",
    "    print(\"blocking_io complete in:\", elapsed)"
   ]
  },
  {
   "cell_type": "code",
   "execution_count": 3,
   "metadata": {},
   "outputs": [],
   "source": [
    "async def main():\n",
    "    print(f\"start main\")\n",
    "    start = default_timer()\n",
    "\n",
    "    await asyncio.gather(\n",
    "        asyncio.to_thread(blocking_io),\n",
    "        fetch_from_db(),\n",
    "    )\n",
    "\n",
    "    elapsed = (default_timer() - start)\n",
    "    print(\"main complete in:\", elapsed)"
   ]
  },
  {
   "cell_type": "code",
   "execution_count": 4,
   "metadata": {},
   "outputs": [
    {
     "name": "stdout",
     "output_type": "stream",
     "text": [
      "start main\n",
      "start blocking_io\n",
      "start fetching from db\n",
      "fetched from db, took: 1.001125458999013\n",
      "blocking_io complete in: 1.0032968329996947\n",
      "main complete in: 1.0049216669995076\n"
     ]
    }
   ],
   "source": [
    "await main()"
   ]
  },
  {
   "cell_type": "code",
   "execution_count": null,
   "metadata": {},
   "outputs": [],
   "source": []
  }
 ],
 "metadata": {
  "kernelspec": {
   "display_name": "Python 3 (ipykernel)",
   "language": "python",
   "name": "python3"
  },
  "language_info": {
   "codemirror_mode": {
    "name": "ipython",
    "version": 3
   },
   "file_extension": ".py",
   "mimetype": "text/x-python",
   "name": "python",
   "nbconvert_exporter": "python",
   "pygments_lexer": "ipython3",
   "version": "3.11.2"
  }
 },
 "nbformat": 4,
 "nbformat_minor": 1
}
