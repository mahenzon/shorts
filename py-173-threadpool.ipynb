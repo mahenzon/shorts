{
 "cells": [
  {
   "cell_type": "markdown",
   "id": "c97ba3f8-d3c5-4454-97c8-185b89027e34",
   "metadata": {},
   "source": [
    "## py ThreadPoolExecutor"
   ]
  },
  {
   "cell_type": "code",
   "execution_count": 1,
   "id": "13df469c66349a05",
   "metadata": {
    "collapsed": false,
    "jupyter": {
     "outputs_hidden": false
    }
   },
   "outputs": [],
   "source": [
    "from time import sleep\n",
    "\n",
    "\n",
    "def get_foo():\n",
    "    print(\"get foo\")\n",
    "    sleep(1)\n",
    "    print(\"done foo\")\n",
    "    return \"foo\"\n",
    "\n",
    "\n",
    "def get_bar():\n",
    "    print(\"get bar\")\n",
    "    sleep(1)\n",
    "    print(\"done bar\")\n",
    "    return \"bar\""
   ]
  },
  {
   "cell_type": "code",
   "execution_count": 2,
   "id": "9f8d5b9b-288c-4876-94c4-17e2c483e67b",
   "metadata": {},
   "outputs": [],
   "source": [
    "from concurrent.futures import (\n",
    "    ThreadPoolExecutor\n",
    ")\n",
    "\n",
    "\n",
    "def main():\n",
    "    with ThreadPoolExecutor() as executor:\n",
    "        future_foo = executor.submit(\n",
    "            get_foo)\n",
    "        future_bar = executor.submit(\n",
    "            get_bar)\n",
    "\n",
    "    print(\"foo res:\", future_foo.result())\n",
    "    print(\"bar res:\", future_bar.result())"
   ]
  },
  {
   "cell_type": "code",
   "execution_count": 3,
   "id": "623759b0-08d2-429d-8c63-420be04acbd0",
   "metadata": {},
   "outputs": [
    {
     "name": "stdout",
     "output_type": "stream",
     "text": [
      "get fooget bar\n",
      "\n",
      "done bardone foo\n",
      "\n",
      "foo res: foo\n",
      "bar res: bar\n",
      "CPU times: user 2.88 ms, sys: 3.8 ms, total: 6.68 ms\n",
      "Wall time: 1.01 s\n"
     ]
    }
   ],
   "source": [
    "%%time\n",
    "\n",
    "main()"
   ]
  },
  {
   "cell_type": "code",
   "execution_count": null,
   "id": "5046f9a5-095c-4a57-91b8-52829b3cfe06",
   "metadata": {},
   "outputs": [],
   "source": []
  }
 ],
 "metadata": {
  "kernelspec": {
   "display_name": "Python 3 (ipykernel)",
   "language": "python",
   "name": "python3"
  },
  "language_info": {
   "codemirror_mode": {
    "name": "ipython",
    "version": 3
   },
   "file_extension": ".py",
   "mimetype": "text/x-python",
   "name": "python",
   "nbconvert_exporter": "python",
   "pygments_lexer": "ipython3",
   "version": "3.11.2"
  }
 },
 "nbformat": 4,
 "nbformat_minor": 5
}
