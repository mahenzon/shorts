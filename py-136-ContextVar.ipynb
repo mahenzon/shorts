{
 "cells": [
  {
   "cell_type": "code",
   "execution_count": 1,
   "metadata": {},
   "outputs": [],
   "source": [
    "# Python\n",
    "# ContextVar"
   ]
  },
  {
   "cell_type": "code",
   "execution_count": 2,
   "metadata": {},
   "outputs": [
    {
     "name": "stdout",
     "output_type": "stream",
     "text": [
      "Handle request foo\n",
      "Processing request foo\n",
      "Inner proc foo\n",
      "Handle request bar\n",
      "Processing request bar\n",
      "Inner proc bar\n"
     ]
    }
   ],
   "source": [
    "from contextvars import (\n",
    "    ContextVar\n",
    ")\n",
    "\n",
    "request_id = ContextVar('request_id')\n",
    "\n",
    "\n",
    "def inner_process():\n",
    "    req_id = request_id.get()\n",
    "    print(\"Inner proc\", req_id)\n",
    "\n",
    "\n",
    "def process_request():\n",
    "    req_id = request_id.get()\n",
    "    print(\"Processing request\", req_id)\n",
    "    inner_process()\n",
    "\n",
    "\n",
    "def handle_request(req_id):\n",
    "    print(\"Handle request\", req_id)\n",
    "    request_id.set(req_id)\n",
    "    process_request()\n",
    "    \n",
    "\n",
    "def main():\n",
    "    handle_request(\"foo\")\n",
    "    handle_request(\"bar\")\n",
    "    \n",
    "\n",
    "main()"
   ]
  },
  {
   "cell_type": "code",
   "execution_count": null,
   "metadata": {},
   "outputs": [],
   "source": []
  }
 ],
 "metadata": {
  "kernelspec": {
   "display_name": "Python 3 (ipykernel)",
   "language": "python",
   "name": "python3"
  },
  "language_info": {
   "codemirror_mode": {
    "name": "ipython",
    "version": 3
   },
   "file_extension": ".py",
   "mimetype": "text/x-python",
   "name": "python",
   "nbconvert_exporter": "python",
   "pygments_lexer": "ipython3",
   "version": "3.11.2"
  }
 },
 "nbformat": 4,
 "nbformat_minor": 1
}
