{
 "cells": [
  {
   "cell_type": "code",
   "execution_count": 1,
   "metadata": {},
   "outputs": [],
   "source": [
    "# Python\n",
    "# Phonetic\n",
    "# Alphabet\n",
    "# Encryptor"
   ]
  },
  {
   "cell_type": "code",
   "execution_count": 2,
   "metadata": {},
   "outputs": [],
   "source": [
    "alphabet = {\n",
    "    'A': 'Alpha',   'B': 'Bravo',\n",
    "    'C': 'Charlie', 'D': 'Delta',\n",
    "    'E': 'Echo',    'F': 'Foxtrot',\n",
    "    'G': 'Golf',    'H': 'Hotel',\n",
    "    'I': 'India',   'J': 'Juliet',\n",
    "    'K': 'Kilo',    'L': 'Lima',\n",
    "    'M': 'Mike',    'N': 'November',\n",
    "    'O': 'Oscar',   'P': 'Papa',\n",
    "    'Q': 'Quebec',  'R': 'Romeo',\n",
    "    'S': 'Sierra',  'T': 'Tango',\n",
    "    'U': 'Uniform', 'V': 'Victor',\n",
    "    'W': 'Whiskey', 'X': 'X-ray',\n",
    "    'Y': 'Yankee',  'Z': 'Zulu',\n",
    "}\n",
    "\n",
    "\n",
    "def phonetic_encryptor(text):\n",
    "    words = []\n",
    "    for char in text.upper():\n",
    "        if word := alphabet.get(char):\n",
    "            words.append(word)\n",
    "    \n",
    "    return words"
   ]
  },
  {
   "cell_type": "code",
   "execution_count": 3,
   "metadata": {},
   "outputs": [
    {
     "data": {
      "text/plain": [
       "['Papa', 'Yankee', 'Tango', 'Hotel', 'Oscar', 'November']"
      ]
     },
     "execution_count": 3,
     "metadata": {},
     "output_type": "execute_result"
    }
   ],
   "source": [
    "message = phonetic_encryptor(\"Python\")\n",
    "message"
   ]
  },
  {
   "cell_type": "code",
   "execution_count": 4,
   "metadata": {},
   "outputs": [
    {
     "name": "stdout",
     "output_type": "stream",
     "text": [
      "Papa\n",
      "Yankee\n",
      "Tango\n",
      "Hotel\n",
      "Oscar\n",
      "November\n"
     ]
    }
   ],
   "source": [
    "print(\"\\n\".join(message))"
   ]
  },
  {
   "cell_type": "code",
   "execution_count": null,
   "metadata": {},
   "outputs": [],
   "source": []
  }
 ],
 "metadata": {
  "kernelspec": {
   "display_name": "Python 3 (ipykernel)",
   "language": "python",
   "name": "python3"
  },
  "language_info": {
   "codemirror_mode": {
    "name": "ipython",
    "version": 3
   },
   "file_extension": ".py",
   "mimetype": "text/x-python",
   "name": "python",
   "nbconvert_exporter": "python",
   "pygments_lexer": "ipython3",
   "version": "3.11.2"
  }
 },
 "nbformat": 4,
 "nbformat_minor": 1
}
