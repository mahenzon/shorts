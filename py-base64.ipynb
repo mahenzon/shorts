{
 "cells": [
  {
   "cell_type": "code",
   "execution_count": 1,
   "id": "ef7ab55a-a980-4380-98d3-c0231d556820",
   "metadata": {},
   "outputs": [],
   "source": [
    "# Python\n",
    "# base64"
   ]
  },
  {
   "cell_type": "code",
   "execution_count": 2,
   "id": "672d337c",
   "metadata": {},
   "outputs": [],
   "source": [
    "message = \"Hi, Python!\""
   ]
  },
  {
   "cell_type": "code",
   "execution_count": 3,
   "id": "844fc217",
   "metadata": {},
   "outputs": [
    {
     "name": "stdout",
     "output_type": "stream",
     "text": [
      "Encoded: b'SGksIFB5dGhvbiE='\n"
     ]
    }
   ],
   "source": [
    "import base64\n",
    "\n",
    "encoded_message = base64.b64encode(\n",
    "    message.encode()\n",
    ")\n",
    "print(\"Encoded:\", encoded_message)"
   ]
  },
  {
   "cell_type": "code",
   "execution_count": 4,
   "id": "ebd5cd79",
   "metadata": {},
   "outputs": [
    {
     "data": {
      "text/plain": [
       "'SGksIFB5dGhvbiE='"
      ]
     },
     "execution_count": 4,
     "metadata": {},
     "output_type": "execute_result"
    }
   ],
   "source": [
    "encoded_message.decode()"
   ]
  },
  {
   "cell_type": "code",
   "execution_count": 5,
   "id": "b5b33be5",
   "metadata": {},
   "outputs": [
    {
     "name": "stdout",
     "output_type": "stream",
     "text": [
      "Decoded: b'Hi, Python!'\n"
     ]
    }
   ],
   "source": [
    "decoded_message = base64.b64decode(\n",
    "    encoded_message\n",
    ")\n",
    "print(\"Decoded:\", decoded_message)"
   ]
  },
  {
   "cell_type": "code",
   "execution_count": 6,
   "id": "b2387b35",
   "metadata": {},
   "outputs": [
    {
     "data": {
      "text/plain": [
       "'Hi, Python!'"
      ]
     },
     "execution_count": 6,
     "metadata": {},
     "output_type": "execute_result"
    }
   ],
   "source": [
    "decoded_message.decode()"
   ]
  },
  {
   "cell_type": "code",
   "execution_count": null,
   "id": "d50d7344",
   "metadata": {},
   "outputs": [],
   "source": []
  }
 ],
 "metadata": {
  "kernelspec": {
   "display_name": "Python 3 (ipykernel)",
   "language": "python",
   "name": "python3"
  },
  "language_info": {
   "codemirror_mode": {
    "name": "ipython",
    "version": 3
   },
   "file_extension": ".py",
   "mimetype": "text/x-python",
   "name": "python",
   "nbconvert_exporter": "python",
   "pygments_lexer": "ipython3",
   "version": "3.11.2"
  }
 },
 "nbformat": 4,
 "nbformat_minor": 5
}
