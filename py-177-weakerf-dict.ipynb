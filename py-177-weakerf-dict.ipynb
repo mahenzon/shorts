{
 "cells": [
  {
   "cell_type": "markdown",
   "id": "6a4930fae1fc75a1",
   "metadata": {
    "collapsed": false,
    "jupyter": {
     "outputs_hidden": false
    }
   },
   "source": [
    "# Python Weak Key Dictionary"
   ]
  },
  {
   "cell_type": "code",
   "execution_count": 1,
   "id": "28df840eb256dcdb",
   "metadata": {
    "collapsed": false,
    "jupyter": {
     "outputs_hidden": false
    }
   },
   "outputs": [
    {
     "name": "stdout",
     "output_type": "stream",
     "text": [
      "<WeakKeyDictionary at 0x1207f5dd0>\n",
      "{}\n"
     ]
    }
   ],
   "source": [
    "from pprint import pprint\n",
    "from weakref import WeakKeyDictionary\n",
    "\n",
    "cache = WeakKeyDictionary()\n",
    "print(cache)\n",
    "pprint(dict(cache))"
   ]
  },
  {
   "cell_type": "code",
   "execution_count": 2,
   "id": "ea5287b1-7665-4355-8a5f-d75c994bde5f",
   "metadata": {},
   "outputs": [],
   "source": [
    "from dataclasses import dataclass\n",
    "\n",
    "@dataclass(frozen=True)\n",
    "class Elem:\n",
    "    name: str"
   ]
  },
  {
   "cell_type": "code",
   "execution_count": 3,
   "id": "86176374-fd4f-4d4f-a5bc-c333c718a547",
   "metadata": {},
   "outputs": [],
   "source": [
    "def process(item):\n",
    "    elem_a = Elem(\"a\")\n",
    "    elem_b = Elem(\"b\")\n",
    "    cache[elem_a] = \"value for a\"\n",
    "    cache[elem_b] = \"value for b\"\n",
    "    pprint(dict(cache))\n",
    "    ...\n",
    "    value_a = cache[elem_a]\n",
    "    print(\"value for a:\", value_a)\n",
    "    cache[item] = \"value for item\"\n",
    "    pprint(dict(cache))\n",
    "    return cache[item]"
   ]
  },
  {
   "cell_type": "code",
   "execution_count": 4,
   "id": "d0ac829c-617a-444a-80e8-521616907605",
   "metadata": {},
   "outputs": [
    {
     "name": "stdout",
     "output_type": "stream",
     "text": [
      "before call\n",
      "{}\n",
      "do call\n",
      "{Elem(name='b'): 'value for b', Elem(name='a'): 'value for a'}\n",
      "value for a: value for a\n",
      "{Elem(name='b'): 'value for b',\n",
      " Elem(name='foo'): 'value for item',\n",
      " Elem(name='a'): 'value for a'}\n",
      "after call\n",
      "{Elem(name='foo'): 'value for item'}\n"
     ]
    }
   ],
   "source": [
    "some_item = Elem(\"foo\")\n",
    "print(\"before call\")\n",
    "pprint(dict(cache))\n",
    "print(\"do call\")\n",
    "process(some_item)\n",
    "print(\"after call\")\n",
    "pprint(dict(cache))"
   ]
  },
  {
   "cell_type": "code",
   "execution_count": null,
   "id": "27f3c7aa-7b6e-4962-8000-7b99a5296818",
   "metadata": {},
   "outputs": [],
   "source": []
  }
 ],
 "metadata": {
  "kernelspec": {
   "display_name": "Python 3 (ipykernel)",
   "language": "python",
   "name": "python3"
  },
  "language_info": {
   "codemirror_mode": {
    "name": "ipython",
    "version": 3
   },
   "file_extension": ".py",
   "mimetype": "text/x-python",
   "name": "python",
   "nbconvert_exporter": "python",
   "pygments_lexer": "ipython3",
   "version": "3.11.2"
  }
 },
 "nbformat": 4,
 "nbformat_minor": 5
}
