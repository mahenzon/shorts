{
 "cells": [
  {
   "cell_type": "code",
   "execution_count": 4,
   "id": "b6112121-3354-44ad-9c73-80cdce05fb3a",
   "metadata": {},
   "outputs": [],
   "source": [
    "# from random import choices\n",
    "import secrets"
   ]
  },
  {
   "cell_type": "code",
   "execution_count": 5,
   "id": "d81618a3-7a1f-4c12-bdb3-8c9554793391",
   "metadata": {},
   "outputs": [
    {
     "data": {
      "text/plain": [
       "b' \\xf5\\xf5\\x8at\\xa6E5'"
      ]
     },
     "execution_count": 5,
     "metadata": {},
     "output_type": "execute_result"
    }
   ],
   "source": [
    "secrets.token_bytes(8)"
   ]
  },
  {
   "cell_type": "code",
   "execution_count": 6,
   "id": "9597949b-4af9-47a0-b558-8a44f2c34490",
   "metadata": {},
   "outputs": [
    {
     "data": {
      "text/plain": [
       "'70f853b04acc5bcc'"
      ]
     },
     "execution_count": 6,
     "metadata": {},
     "output_type": "execute_result"
    }
   ],
   "source": [
    "secrets.token_hex(8)"
   ]
  },
  {
   "cell_type": "code",
   "execution_count": 7,
   "id": "e8d4d450-6f33-4308-965e-61ebf4a834a7",
   "metadata": {},
   "outputs": [
    {
     "data": {
      "text/plain": [
       "'qosuUE0uw2E'"
      ]
     },
     "execution_count": 7,
     "metadata": {},
     "output_type": "execute_result"
    }
   ],
   "source": [
    "# Return a random URL-safe text \n",
    "# string, containing nbytes random bytes.\n",
    "# The text is Base64 encoded,\n",
    "# so on average each byte results \n",
    "# in approximately 1.3 characters.\n",
    "# If nbytes is None or not supplied,\n",
    "# a reasonable default is used.\n",
    "secrets.token_urlsafe(8)"
   ]
  },
  {
   "cell_type": "code",
   "execution_count": 3,
   "id": "d89cfcee-ad82-41f4-b7fa-eb8ade868b82",
   "metadata": {},
   "outputs": [
    {
     "data": {
      "text/plain": [
       "'GTeAQg89'"
      ]
     },
     "execution_count": 3,
     "metadata": {},
     "output_type": "execute_result"
    }
   ],
   "source": [
    "import string\n",
    "import secrets\n",
    "\n",
    "alphabet = (\n",
    "    string.ascii_letters \n",
    "    + string.digits\n",
    ")\n",
    "length = 8\n",
    "\n",
    "secret_token = \"\".join(\n",
    "    secrets.choice(alphabet)\n",
    "    for i in range(8)\n",
    ")\n",
    "secret_token"
   ]
  },
  {
   "cell_type": "code",
   "execution_count": null,
   "id": "a17b6213-81b7-424e-bbaa-d4834cc0fd94",
   "metadata": {},
   "outputs": [],
   "source": []
  }
 ],
 "metadata": {
  "kernelspec": {
   "display_name": "Python 3 (ipykernel)",
   "language": "python",
   "name": "python3"
  },
  "language_info": {
   "codemirror_mode": {
    "name": "ipython",
    "version": 3
   },
   "file_extension": ".py",
   "mimetype": "text/x-python",
   "name": "python",
   "nbconvert_exporter": "python",
   "pygments_lexer": "ipython3",
   "version": "3.11.2"
  }
 },
 "nbformat": 4,
 "nbformat_minor": 5
}
