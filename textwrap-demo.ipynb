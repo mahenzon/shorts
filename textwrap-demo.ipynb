{
 "cells": [
  {
   "cell_type": "code",
   "execution_count": 1,
   "metadata": {},
   "outputs": [],
   "source": [
    "# Помощник\n",
    "# textwrap\n",
    "# в Python"
   ]
  },
  {
   "cell_type": "code",
   "execution_count": 2,
   "metadata": {},
   "outputs": [],
   "source": [
    "text = \"Lorem ipsum dolor sit amet, consectetur adipiscing elit. Mauris euismod interdum nulla, eu mollis ipsum fermentum at. Nunc in leo in dolor faucibus viverra. Nulla tempor vestibulum lectus, ut faucibus tellus gravida at.\""
   ]
  },
  {
   "cell_type": "code",
   "execution_count": 3,
   "metadata": {},
   "outputs": [],
   "source": [
    "import textwrap"
   ]
  },
  {
   "cell_type": "code",
   "execution_count": 5,
   "metadata": {},
   "outputs": [],
   "source": [
    "wrapped_text = textwrap.wrap(\n",
    "    text, \n",
    "    width=20,\n",
    ")"
   ]
  },
  {
   "cell_type": "code",
   "execution_count": 6,
   "metadata": {},
   "outputs": [
    {
     "data": {
      "text/plain": [
       "['Lorem ipsum dolor',\n",
       " 'sit amet,',\n",
       " 'consectetur',\n",
       " 'adipiscing elit.',\n",
       " 'Mauris euismod',\n",
       " 'interdum nulla, eu',\n",
       " 'mollis ipsum',\n",
       " 'fermentum at. Nunc',\n",
       " 'in leo in dolor',\n",
       " 'faucibus viverra.',\n",
       " 'Nulla tempor',\n",
       " 'vestibulum lectus,',\n",
       " 'ut faucibus tellus',\n",
       " 'gravida at.']"
      ]
     },
     "execution_count": 6,
     "metadata": {},
     "output_type": "execute_result"
    }
   ],
   "source": [
    "wrapped_text"
   ]
  },
  {
   "cell_type": "code",
   "execution_count": 7,
   "metadata": {},
   "outputs": [
    {
     "name": "stdout",
     "output_type": "stream",
     "text": [
      "Lorem ipsum dolor\n",
      "sit amet,\n",
      "consectetur\n",
      "adipiscing elit.\n",
      "Mauris euismod\n",
      "interdum nulla, eu\n",
      "mollis ipsum\n",
      "fermentum at. Nunc\n",
      "in leo in dolor\n",
      "faucibus viverra.\n",
      "Nulla tempor\n",
      "vestibulum lectus,\n",
      "ut faucibus tellus\n",
      "gravida at.\n"
     ]
    }
   ],
   "source": [
    "for line in wrapped_text:\n",
    "    print(line)"
   ]
  },
  {
   "cell_type": "code",
   "execution_count": null,
   "metadata": {},
   "outputs": [],
   "source": []
  }
 ],
 "metadata": {
  "kernelspec": {
   "display_name": "Python 3 (ipykernel)",
   "language": "python",
   "name": "python3"
  },
  "language_info": {
   "codemirror_mode": {
    "name": "ipython",
    "version": 3
   },
   "file_extension": ".py",
   "mimetype": "text/x-python",
   "name": "python",
   "nbconvert_exporter": "python",
   "pygments_lexer": "ipython3",
   "version": "3.10.4"
  }
 },
 "nbformat": 4,
 "nbformat_minor": 1
}
