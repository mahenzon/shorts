{
 "cells": [
  {
   "cell_type": "code",
   "execution_count": 3,
   "outputs": [],
   "source": [
    "\n",
    "def count_repeat(items):\n",
    "    result = {}\n",
    "    for item in items:\n",
    "        count = result.get(item, 0) + 1\n",
    "        result[item] = count\n",
    "    return result"
   ],
   "metadata": {
    "collapsed": false
   }
  },
  {
   "cell_type": "code",
   "execution_count": 4,
   "outputs": [
    {
     "data": {
      "text/plain": "{'python': 1, 'go': 2, 'js': 2, 'rust': 1}"
     },
     "execution_count": 4,
     "metadata": {},
     "output_type": "execute_result"
    }
   ],
   "source": [
    "count_repeat([\"python\", \"go\", \"go\", \"js\", \"rust\", \"js\"])"
   ],
   "metadata": {
    "collapsed": false
   }
  },
  {
   "cell_type": "code",
   "execution_count": 5,
   "outputs": [],
   "source": [
    "from collections import defaultdict\n",
    "\n",
    "\n",
    "def count_repeat(items):\n",
    "    result = defaultdict(int)\n",
    "    for item in items:\n",
    "        result[item] += 1\n",
    "    return result"
   ],
   "metadata": {
    "collapsed": false
   }
  },
  {
   "cell_type": "code",
   "execution_count": 6,
   "outputs": [
    {
     "data": {
      "text/plain": "defaultdict(int, {'python': 1, 'go': 2, 'js': 2, 'rust': 1})"
     },
     "execution_count": 6,
     "metadata": {},
     "output_type": "execute_result"
    }
   ],
   "source": [
    "count_repeat([\"python\", \"go\", \"go\", \"js\", \"rust\", \"js\"])"
   ],
   "metadata": {
    "collapsed": false
   }
  },
  {
   "cell_type": "code",
   "execution_count": null,
   "outputs": [],
   "source": [
    "from collections import defaultdict\n",
    "\n",
    "fav_fruits = [\n",
    "    ('John', 'apple'),\n",
    "    ('Sam', 'orange'),\n",
    "    ('Nick', 'apple'),\n",
    "    ('Kim', 'banana'),\n",
    "    ('Bob', 'orange'),\n",
    "    ('Kyle', 'peach'),\n",
    "    ('Greg', 'apple'),\n",
    "]\n",
    "\n",
    "fruits = defaultdict(list)\n",
    "\n",
    "for name, fruit in fav_fruits:\n",
    "    fruits[fruit].append(name)\n",
    "\n",
    "print(fruits)\n"
   ],
   "metadata": {
    "collapsed": false
   }
  }
 ],
 "metadata": {
  "kernelspec": {
   "display_name": "Python 3 (ipykernel)",
   "language": "python",
   "name": "python3"
  },
  "language_info": {
   "codemirror_mode": {
    "name": "ipython",
    "version": 3
   },
   "file_extension": ".py",
   "mimetype": "text/x-python",
   "name": "python",
   "nbconvert_exporter": "python",
   "pygments_lexer": "ipython3",
   "version": "3.10.4"
  }
 },
 "nbformat": 4,
 "nbformat_minor": 1
}
