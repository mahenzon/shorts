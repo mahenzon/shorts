{
 "cells": [
  {
   "cell_type": "code",
   "execution_count": 1,
   "id": "860d063c-4700-42e6-90c1-7cfab1742638",
   "metadata": {},
   "outputs": [],
   "source": [
    "# python dict\n",
    "# popular methods"
   ]
  },
  {
   "cell_type": "code",
   "execution_count": 2,
   "id": "12a9a52c",
   "metadata": {},
   "outputs": [
    {
     "data": {
      "text/plain": [
       "{'apple': 'green', 'banana': 'yellow', 'orange': 'orange'}"
      ]
     },
     "execution_count": 2,
     "metadata": {},
     "output_type": "execute_result"
    }
   ],
   "source": [
    "fruits = {\n",
    "    \"apple\": \"green\",\n",
    "    \"banana\": \"yellow\",\n",
    "    \"orange\": \"orange\",\n",
    "}\n",
    "fruits"
   ]
  },
  {
   "cell_type": "code",
   "execution_count": 3,
   "id": "5023b687",
   "metadata": {},
   "outputs": [
    {
     "data": {
      "text/plain": [
       "dict_keys(['apple', 'banana', 'orange'])"
      ]
     },
     "execution_count": 3,
     "metadata": {},
     "output_type": "execute_result"
    }
   ],
   "source": [
    "fruits.keys()"
   ]
  },
  {
   "cell_type": "code",
   "execution_count": 4,
   "id": "a253faa3",
   "metadata": {},
   "outputs": [
    {
     "name": "stdout",
     "output_type": "stream",
     "text": [
      "dict_keys(['apple', 'banana', 'orange'])\n",
      "dict_keys(['banana', 'orange'])\n"
     ]
    }
   ],
   "source": [
    "keys = fruits.keys()\n",
    "print(keys)\n",
    "fruits.pop(\"apple\")\n",
    "print(keys)"
   ]
  },
  {
   "cell_type": "code",
   "execution_count": 5,
   "id": "e2f77bd6",
   "metadata": {},
   "outputs": [
    {
     "data": {
      "text/plain": [
       "['banana', 'orange']"
      ]
     },
     "execution_count": 5,
     "metadata": {},
     "output_type": "execute_result"
    }
   ],
   "source": [
    "list(fruits)"
   ]
  },
  {
   "cell_type": "code",
   "execution_count": 6,
   "id": "5faba44b",
   "metadata": {},
   "outputs": [
    {
     "data": {
      "text/plain": [
       "dict_values(['yellow', 'orange'])"
      ]
     },
     "execution_count": 6,
     "metadata": {},
     "output_type": "execute_result"
    }
   ],
   "source": [
    "fruits.values()"
   ]
  },
  {
   "cell_type": "code",
   "execution_count": 7,
   "id": "9e23654d",
   "metadata": {},
   "outputs": [
    {
     "name": "stdout",
     "output_type": "stream",
     "text": [
      "dict_values(['yellow', 'orange'])\n",
      "dict_values(['yellow', 'orange', 'red'])\n"
     ]
    }
   ],
   "source": [
    "values = fruits.values()\n",
    "print(values)\n",
    "fruits[\"apple\"] = \"red\"\n",
    "print(values)"
   ]
  },
  {
   "cell_type": "code",
   "execution_count": 8,
   "id": "1271383d",
   "metadata": {},
   "outputs": [
    {
     "data": {
      "text/plain": [
       "dict_items([('banana', 'yellow'), ('orange', 'orange'), ('apple', 'red')])"
      ]
     },
     "execution_count": 8,
     "metadata": {},
     "output_type": "execute_result"
    }
   ],
   "source": [
    "fruits.items()"
   ]
  },
  {
   "cell_type": "code",
   "execution_count": 9,
   "id": "62e4900b",
   "metadata": {},
   "outputs": [
    {
     "name": "stdout",
     "output_type": "stream",
     "text": [
      "banana is yellow\n",
      "orange is orange\n",
      "apple is red\n"
     ]
    }
   ],
   "source": [
    "for key, value in fruits.items():\n",
    "    print(f\"{key} is {value}\")"
   ]
  },
  {
   "cell_type": "code",
   "execution_count": 11,
   "id": "29ade6ac",
   "metadata": {},
   "outputs": [],
   "source": [
    "for key, value in list(fruits.items()):\n",
    "    if value == \"red\":\n",
    "        fruits.pop(key)"
   ]
  },
  {
   "cell_type": "code",
   "execution_count": 12,
   "id": "1b5351a4",
   "metadata": {},
   "outputs": [
    {
     "data": {
      "text/plain": [
       "{'banana': 'yellow', 'orange': 'orange'}"
      ]
     },
     "execution_count": 12,
     "metadata": {},
     "output_type": "execute_result"
    }
   ],
   "source": [
    "fruits"
   ]
  },
  {
   "cell_type": "code",
   "execution_count": null,
   "id": "77242b95",
   "metadata": {},
   "outputs": [],
   "source": []
  }
 ],
 "metadata": {
  "kernelspec": {
   "display_name": "Python 3 (ipykernel)",
   "language": "python",
   "name": "python3"
  },
  "language_info": {
   "codemirror_mode": {
    "name": "ipython",
    "version": 3
   },
   "file_extension": ".py",
   "mimetype": "text/x-python",
   "name": "python",
   "nbconvert_exporter": "python",
   "pygments_lexer": "ipython3",
   "version": "3.11.2"
  }
 },
 "nbformat": 4,
 "nbformat_minor": 5
}
