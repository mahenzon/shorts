{
 "cells": [
  {
   "cell_type": "markdown",
   "id": "b457aa8c08c93c75",
   "metadata": {
    "collapsed": false,
    "jupyter": {
     "outputs_hidden": false
    }
   },
   "source": [
    "# декоратор для замера\n",
    "# времени выполнения"
   ]
  },
  {
   "cell_type": "code",
   "execution_count": 1,
   "id": "a4b8c72ab5851c36",
   "metadata": {
    "collapsed": false,
    "jupyter": {
     "outputs_hidden": false
    }
   },
   "outputs": [],
   "source": [
    "from functools import wraps\n",
    "from timeit import default_timer\n",
    "\n",
    "def time_dec(func):\n",
    "    \n",
    "    @wraps(func)\n",
    "    def wrapper(*a, **kw):\n",
    "        start_time = default_timer()\n",
    "        try:\n",
    "            return func(*a, **kw)\n",
    "        finally:\n",
    "            total_time = (\n",
    "                default_timer()\n",
    "                - start_time\n",
    "            )\n",
    "            print(\"total:\", total_time)\n",
    "    \n",
    "    return wrapper"
   ]
  },
  {
   "cell_type": "code",
   "execution_count": 2,
   "id": "02c9e5b6-5065-466f-a10d-ac8b0cdd66c9",
   "metadata": {},
   "outputs": [],
   "source": [
    "@time_dec\n",
    "def power_self(n):\n",
    "    return n ** n"
   ]
  },
  {
   "cell_type": "code",
   "execution_count": 4,
   "id": "a3f6126d-213e-41ac-8007-93306394d0e8",
   "metadata": {},
   "outputs": [
    {
     "name": "stdout",
     "output_type": "stream",
     "text": [
      "total: 1.166015863418579e-06\n"
     ]
    },
    {
     "data": {
      "text/plain": [
       "10000000000"
      ]
     },
     "execution_count": 4,
     "metadata": {},
     "output_type": "execute_result"
    }
   ],
   "source": [
    "power_self(10)"
   ]
  },
  {
   "cell_type": "code",
   "execution_count": 5,
   "id": "15f363a2-f08f-4974-84c9-989ec52fb0d4",
   "metadata": {},
   "outputs": [
    {
     "name": "stdout",
     "output_type": "stream",
     "text": [
      "total: 1.8750142771750689e-06\n"
     ]
    },
    {
     "ename": "TypeError",
     "evalue": "unsupported operand type(s) for ** or pow(): 'str' and 'str'",
     "output_type": "error",
     "traceback": [
      "\u001b[0;31m---------------------------------------------------------------------------\u001b[0m",
      "\u001b[0;31mTypeError\u001b[0m                                 Traceback (most recent call last)",
      "Cell \u001b[0;32mIn[5], line 1\u001b[0m\n\u001b[0;32m----> 1\u001b[0m \u001b[43mpower_self\u001b[49m\u001b[43m(\u001b[49m\u001b[38;5;124;43m\"\u001b[39;49m\u001b[38;5;124;43mx\u001b[39;49m\u001b[38;5;124;43m\"\u001b[39;49m\u001b[43m)\u001b[49m\n",
      "Cell \u001b[0;32mIn[1], line 10\u001b[0m, in \u001b[0;36mtime_dec.<locals>.wrapper\u001b[0;34m(*a, **kw)\u001b[0m\n\u001b[1;32m      8\u001b[0m start_time \u001b[38;5;241m=\u001b[39m default_timer()\n\u001b[1;32m      9\u001b[0m \u001b[38;5;28;01mtry\u001b[39;00m:\n\u001b[0;32m---> 10\u001b[0m     \u001b[38;5;28;01mreturn\u001b[39;00m \u001b[43mfunc\u001b[49m\u001b[43m(\u001b[49m\u001b[38;5;241;43m*\u001b[39;49m\u001b[43ma\u001b[49m\u001b[43m,\u001b[49m\u001b[43m \u001b[49m\u001b[38;5;241;43m*\u001b[39;49m\u001b[38;5;241;43m*\u001b[39;49m\u001b[43mkw\u001b[49m\u001b[43m)\u001b[49m\n\u001b[1;32m     11\u001b[0m \u001b[38;5;28;01mfinally\u001b[39;00m:\n\u001b[1;32m     12\u001b[0m     total_time \u001b[38;5;241m=\u001b[39m (\n\u001b[1;32m     13\u001b[0m         default_timer()\n\u001b[1;32m     14\u001b[0m         \u001b[38;5;241m-\u001b[39m start_time\n\u001b[1;32m     15\u001b[0m     )\n",
      "Cell \u001b[0;32mIn[2], line 3\u001b[0m, in \u001b[0;36mpower_self\u001b[0;34m(n)\u001b[0m\n\u001b[1;32m      1\u001b[0m \u001b[38;5;129m@time_dec\u001b[39m\n\u001b[1;32m      2\u001b[0m \u001b[38;5;28;01mdef\u001b[39;00m \u001b[38;5;21mpower_self\u001b[39m(n):\n\u001b[0;32m----> 3\u001b[0m     \u001b[38;5;28;01mreturn\u001b[39;00m \u001b[43mn\u001b[49m\u001b[43m \u001b[49m\u001b[38;5;241;43m*\u001b[39;49m\u001b[38;5;241;43m*\u001b[39;49m\u001b[43m \u001b[49m\u001b[43mn\u001b[49m\n",
      "\u001b[0;31mTypeError\u001b[0m: unsupported operand type(s) for ** or pow(): 'str' and 'str'"
     ]
    }
   ],
   "source": [
    "power_self(\"x\")"
   ]
  },
  {
   "cell_type": "code",
   "execution_count": null,
   "id": "db784017-867a-445a-99f1-faabc0e794d5",
   "metadata": {},
   "outputs": [],
   "source": []
  }
 ],
 "metadata": {
  "kernelspec": {
   "display_name": "Python 3 (ipykernel)",
   "language": "python",
   "name": "python3"
  },
  "language_info": {
   "codemirror_mode": {
    "name": "ipython",
    "version": 3
   },
   "file_extension": ".py",
   "mimetype": "text/x-python",
   "name": "python",
   "nbconvert_exporter": "python",
   "pygments_lexer": "ipython3",
   "version": "3.11.2"
  }
 },
 "nbformat": 4,
 "nbformat_minor": 5
}
