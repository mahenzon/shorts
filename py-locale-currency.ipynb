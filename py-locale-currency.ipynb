{
 "cells": [
  {
   "cell_type": "code",
   "execution_count": 1,
   "id": "c335368b-5dc7-44d0-b4f0-19c71ba4470d",
   "metadata": {},
   "outputs": [],
   "source": [
    "# locale\n",
    "# currency"
   ]
  },
  {
   "cell_type": "code",
   "execution_count": 3,
   "id": "ff62c9dd",
   "metadata": {},
   "outputs": [
    {
     "name": "stdout",
     "output_type": "stream",
     "text": [
      "your funds: 1234567.89\n"
     ]
    }
   ],
   "source": [
    "funds = 1234567.89\n",
    "print(\"your funds:\", funds)"
   ]
  },
  {
   "cell_type": "code",
   "execution_count": 4,
   "id": "78d1d729",
   "metadata": {},
   "outputs": [
    {
     "data": {
      "text/plain": [
       "'$1234567.89'"
      ]
     },
     "execution_count": 4,
     "metadata": {},
     "output_type": "execute_result"
    }
   ],
   "source": [
    "import locale\n",
    "\n",
    "current_locale = 'en_US.UTF-8'\n",
    "locale.setlocale(\n",
    "    locale.LC_ALL,\n",
    "    current_locale,\n",
    ")\n",
    "\n",
    "locale.currency(funds)"
   ]
  },
  {
   "cell_type": "code",
   "execution_count": 5,
   "id": "1bbd67a0",
   "metadata": {},
   "outputs": [
    {
     "name": "stdout",
     "output_type": "stream",
     "text": [
      "your funds: $1,234,567.89\n"
     ]
    }
   ],
   "source": [
    "formatted_funds = locale.currency(\n",
    "    funds,\n",
    "    grouping=True,\n",
    ")\n",
    "\n",
    "print(\n",
    "    \"your funds:\", \n",
    "    formatted_funds,\n",
    ")"
   ]
  },
  {
   "cell_type": "code",
   "execution_count": 7,
   "id": "ac7700f9",
   "metadata": {},
   "outputs": [
    {
     "data": {
      "text/plain": [
       "'1.234.567,89'"
      ]
     },
     "execution_count": 7,
     "metadata": {},
     "output_type": "execute_result"
    }
   ],
   "source": [
    "current_locale = 'de_DE.UTF-8'\n",
    "locale.setlocale(\n",
    "    locale.LC_ALL,\n",
    "    current_locale,\n",
    ")\n",
    "\n",
    "locale.currency(\n",
    "    funds,\n",
    "    grouping=True,\n",
    "    symbol=False,\n",
    ")"
   ]
  },
  {
   "cell_type": "code",
   "execution_count": 8,
   "id": "499c3ba9",
   "metadata": {},
   "outputs": [
    {
     "data": {
      "text/plain": [
       "'1 234 567,89 руб.'"
      ]
     },
     "execution_count": 8,
     "metadata": {},
     "output_type": "execute_result"
    }
   ],
   "source": [
    "current_locale = 'ru_RU.UTF-8'\n",
    "locale.setlocale(\n",
    "    locale.LC_ALL,\n",
    "    current_locale,\n",
    ")\n",
    "\n",
    "locale.currency(\n",
    "    funds,\n",
    "    grouping=True,\n",
    ")"
   ]
  },
  {
   "cell_type": "code",
   "execution_count": null,
   "id": "693fb6a4",
   "metadata": {},
   "outputs": [],
   "source": []
  }
 ],
 "metadata": {
  "kernelspec": {
   "display_name": "Python 3 (ipykernel)",
   "language": "python",
   "name": "python3"
  },
  "language_info": {
   "codemirror_mode": {
    "name": "ipython",
    "version": 3
   },
   "file_extension": ".py",
   "mimetype": "text/x-python",
   "name": "python",
   "nbconvert_exporter": "python",
   "pygments_lexer": "ipython3",
   "version": "3.11.2"
  }
 },
 "nbformat": 4,
 "nbformat_minor": 5
}
