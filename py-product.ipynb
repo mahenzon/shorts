{
 "cells": [
  {
   "cell_type": "code",
   "execution_count": 1,
   "metadata": {},
   "outputs": [],
   "source": [
    "# itertools product\n",
    "#\n",
    "# Декартово произведение коллекций"
   ]
  },
  {
   "cell_type": "code",
   "execution_count": 9,
   "metadata": {},
   "outputs": [],
   "source": [
    "boys = [\n",
    "    \"John\",\n",
    "    \"Bob\",\n",
    "    \"Sam\"\n",
    "]\n",
    "girls = [\n",
    "    \"Alice\",\n",
    "    \"Jane\",\n",
    "]"
   ]
  },
  {
   "cell_type": "code",
   "execution_count": 10,
   "outputs": [
    {
     "name": "stdout",
     "output_type": "stream",
     "text": [
      "[('John', 'Alice'), ('John', 'Jane'), ('Bob', 'Alice'), ('Bob', 'Jane'), ('Sam', 'Alice'), ('Sam', 'Jane')]\n"
     ]
    }
   ],
   "source": [
    "items = []\n",
    "for boy in boys:\n",
    "    for girl in girls:\n",
    "        items.append((boy, girl))\n",
    "\n",
    "\n",
    "print(items)"
   ],
   "metadata": {
    "collapsed": false
   }
  },
  {
   "cell_type": "code",
   "execution_count": 11,
   "outputs": [
    {
     "name": "stdout",
     "output_type": "stream",
     "text": [
      "[('John', 'Alice'), ('John', 'Jane'), ('Bob', 'Alice'), ('Bob', 'Jane'), ('Sam', 'Alice'), ('Sam', 'Jane')]\n"
     ]
    }
   ],
   "source": [
    "from itertools import product\n",
    "\n",
    "pairs = product(boys, girls)\n",
    "print(list(pairs))"
   ],
   "metadata": {
    "collapsed": false
   }
  },
  {
   "cell_type": "code",
   "execution_count": 12,
   "outputs": [
    {
     "name": "stdout",
     "output_type": "stream",
     "text": [
      "[('John', 'Alice', 'all black'), ('John', 'Alice', 'green'), ('John', 'Alice', 'stripped'), ('John', 'Jane', 'all black'), ('John', 'Jane', 'green'), ('John', 'Jane', 'stripped'), ('Bob', 'Alice', 'all black'), ('Bob', 'Alice', 'green'), ('Bob', 'Alice', 'stripped'), ('Bob', 'Jane', 'all black'), ('Bob', 'Jane', 'green'), ('Bob', 'Jane', 'stripped'), ('Sam', 'Alice', 'all black'), ('Sam', 'Alice', 'green'), ('Sam', 'Alice', 'stripped'), ('Sam', 'Jane', 'all black'), ('Sam', 'Jane', 'green'), ('Sam', 'Jane', 'stripped')]\n"
     ]
    }
   ],
   "source": [
    "styles = [\n",
    "    \"all black\",\n",
    "    \"all white\",\n",
    "]\n",
    "\n",
    "combos = product(boys, girls, styles)\n",
    "print(list(combos))"
   ],
   "metadata": {
    "collapsed": false
   }
  },
  {
   "cell_type": "code",
   "execution_count": null,
   "outputs": [],
   "source": [],
   "metadata": {
    "collapsed": false
   }
  }
 ],
 "metadata": {
  "kernelspec": {
   "display_name": "Python 3 (ipykernel)",
   "language": "python",
   "name": "python3"
  },
  "language_info": {
   "codemirror_mode": {
    "name": "ipython",
    "version": 3
   },
   "file_extension": ".py",
   "mimetype": "text/x-python",
   "name": "python",
   "nbconvert_exporter": "python",
   "pygments_lexer": "ipython3",
   "version": "3.11.2"
  }
 },
 "nbformat": 4,
 "nbformat_minor": 1
}
