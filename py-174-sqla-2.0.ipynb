{
 "cells": [
  {
   "cell_type": "code",
   "execution_count": 2,
   "id": "initial_id",
   "metadata": {
    "collapsed": true,
    "ExecuteTime": {
     "end_time": "2023-08-25T19:50:24.478879Z",
     "start_time": "2023-08-25T19:50:24.402819Z"
    }
   },
   "outputs": [
    {
     "name": "stdout",
     "output_type": "stream",
     "text": [
      "2023-08-25 22:50:24,466 INFO sqlalchemy.engine.Engine BEGIN (implicit)\n",
      "2023-08-25 22:50:24,467 INFO sqlalchemy.engine.Engine PRAGMA main.table_info(\"users\")\n",
      "2023-08-25 22:50:24,467 INFO sqlalchemy.engine.Engine [raw sql] ()\n",
      "2023-08-25 22:50:24,468 INFO sqlalchemy.engine.Engine PRAGMA temp.table_info(\"users\")\n",
      "2023-08-25 22:50:24,468 INFO sqlalchemy.engine.Engine [raw sql] ()\n",
      "2023-08-25 22:50:24,469 INFO sqlalchemy.engine.Engine PRAGMA main.table_info(\"posts\")\n",
      "2023-08-25 22:50:24,469 INFO sqlalchemy.engine.Engine [raw sql] ()\n",
      "2023-08-25 22:50:24,469 INFO sqlalchemy.engine.Engine PRAGMA temp.table_info(\"posts\")\n",
      "2023-08-25 22:50:24,469 INFO sqlalchemy.engine.Engine [raw sql] ()\n",
      "2023-08-25 22:50:24,470 INFO sqlalchemy.engine.Engine \n",
      "CREATE TABLE users (\n",
      "\tusername VARCHAR(30) NOT NULL, \n",
      "\temail VARCHAR NOT NULL, \n",
      "\tmotto VARCHAR, \n",
      "\tid INTEGER NOT NULL, \n",
      "\tPRIMARY KEY (id)\n",
      ")\n",
      "\n",
      "\n",
      "2023-08-25 22:50:24,471 INFO sqlalchemy.engine.Engine [no key 0.00025s] ()\n",
      "2023-08-25 22:50:24,472 INFO sqlalchemy.engine.Engine \n",
      "CREATE TABLE posts (\n",
      "\ttitle VARCHAR(100) NOT NULL, \n",
      "\tbody TEXT DEFAULT '' NOT NULL, \n",
      "\tauthor_id INTEGER NOT NULL, \n",
      "\tid INTEGER NOT NULL, \n",
      "\tPRIMARY KEY (id), \n",
      "\tFOREIGN KEY(author_id) REFERENCES users (id)\n",
      ")\n",
      "\n",
      "\n",
      "2023-08-25 22:50:24,472 INFO sqlalchemy.engine.Engine [no key 0.00028s] ()\n",
      "2023-08-25 22:50:24,473 INFO sqlalchemy.engine.Engine COMMIT\n"
     ]
    }
   ],
   "source": [
    "from sqlalchemy import (\n",
    "    create_engine,\n",
    "    String,\n",
    "    Text,\n",
    "    ForeignKey,\n",
    ")\n",
    "\n",
    "from sqlalchemy.orm import (\n",
    "    DeclarativeBase,\n",
    "    declared_attr,\n",
    "    Mapped,\n",
    "    mapped_column,\n",
    "    relationship,\n",
    ")\n",
    "\n",
    "DB_URL = f\"sqlite:///./db.sqlite3\"\n",
    "DB_ECHO = True\n",
    "\n",
    "\n",
    "class Base(DeclarativeBase):\n",
    "    __abstract__ = True\n",
    "\n",
    "    @declared_attr.directive\n",
    "    def __tablename__(cls) -> str:\n",
    "        return f\"{cls.__name__.lower()}s\"\n",
    "\n",
    "    id: Mapped[int] = mapped_column(primary_key=True)\n",
    "\n",
    "\n",
    "class User(Base):\n",
    "    username: Mapped[str] = mapped_column(String(30))\n",
    "    email: Mapped[str]\n",
    "    motto: Mapped[str | None]\n",
    "\n",
    "    posts: Mapped[\"Post\"] = relationship(back_populates=\"author\")\n",
    "\n",
    "\n",
    "class Post(Base):\n",
    "    title: Mapped[str] = mapped_column(String(100))\n",
    "    body: Mapped[str] = mapped_column(\n",
    "        Text,\n",
    "        default=\"\",\n",
    "        server_default=\"\",\n",
    "    )\n",
    "\n",
    "    author_id: Mapped[int] = mapped_column(ForeignKey(\"users.id\"))\n",
    "    author: Mapped[\"User\"] = relationship(back_populates=\"posts\")\n",
    "\n",
    "\n",
    "def main():\n",
    "    engine = create_engine(DB_URL, echo=DB_ECHO)\n",
    "    Base.metadata.create_all(engine)\n",
    "\n",
    "\n",
    "if __name__ == \"__main__\":\n",
    "    main()"
   ]
  },
  {
   "cell_type": "markdown",
   "source": [
    "SQL Queries:\n",
    "\n",
    "```sql\n",
    "CREATE TABLE users\n",
    "(\n",
    "    username VARCHAR(30) NOT NULL,\n",
    "    email    VARCHAR     NOT NULL,\n",
    "    motto    VARCHAR,\n",
    "    id       INTEGER     NOT NULL,\n",
    "    PRIMARY KEY (id)\n",
    ");\n",
    "\n",
    "CREATE TABLE posts\n",
    "(\n",
    "    title     VARCHAR(100)    NOT NULL,\n",
    "    body      TEXT DEFAULT '' NOT NULL,\n",
    "    author_id INTEGER         NOT NULL,\n",
    "    id        INTEGER         NOT NULL,\n",
    "    PRIMARY KEY (id),\n",
    "    FOREIGN KEY (author_id) REFERENCES users (id)\n",
    ");\n",
    "```"
   ],
   "metadata": {
    "collapsed": false
   },
   "id": "948d0a88929c3fad"
  },
  {
   "cell_type": "code",
   "execution_count": null,
   "outputs": [],
   "source": [],
   "metadata": {
    "collapsed": false
   },
   "id": "fb89834f11da60f3"
  }
 ],
 "metadata": {
  "kernelspec": {
   "display_name": "Python 3",
   "language": "python",
   "name": "python3"
  },
  "language_info": {
   "codemirror_mode": {
    "name": "ipython",
    "version": 2
   },
   "file_extension": ".py",
   "mimetype": "text/x-python",
   "name": "python",
   "nbconvert_exporter": "python",
   "pygments_lexer": "ipython2",
   "version": "2.7.6"
  }
 },
 "nbformat": 4,
 "nbformat_minor": 5
}
