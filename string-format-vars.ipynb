{
 "cells": [
  {
   "cell_type": "code",
   "execution_count": null,
   "metadata": {},
   "outputs": [],
   "source": [
    "# Форматирование объектов\n",
    "# в строчки Python"
   ]
  },
  {
   "cell_type": "code",
   "execution_count": null,
   "metadata": {},
   "outputs": [],
   "source": []
  },
  {
   "cell_type": "code",
   "execution_count": 10,
   "outputs": [
    {
     "name": "stdout",
     "output_type": "stream",
     "text": [
      "Number: 007\n",
      "Number: 007\n",
      "Number: 013\n",
      "Number: 013\n",
      "Number: 456\n",
      "Number: 456\n",
      "Number: 6789\n",
      "Number: 6789\n"
     ]
    }
   ],
   "source": [
    "# Integer with zero-padding\n",
    "for n in (7, 13, 456, 6789):\n",
    "    print(\"Number: %03d\" % n)\n",
    "    print(f\"Number: {n:03d}\")\n"
   ],
   "metadata": {
    "collapsed": false
   }
  },
  {
   "cell_type": "code",
   "execution_count": 11,
   "outputs": [
    {
     "name": "stdout",
     "output_type": "stream",
     "text": [
      "Number:   7\n",
      "Number:   7\n",
      "Number:  13\n",
      "Number:  13\n",
      "Number: 456\n",
      "Number: 456\n",
      "Number: 6789\n",
      "Number: 6789\n"
     ]
    }
   ],
   "source": [
    "# Integer with space-padding\n",
    "\n",
    "for n in (7, 13, 456, 6789):\n",
    "    print(\"Number: %3d\" % n)\n",
    "    print(f\"Number: {n:3d}\")\n"
   ],
   "metadata": {
    "collapsed": false
   }
  },
  {
   "cell_type": "code",
   "execution_count": 6,
   "outputs": [
    {
     "name": "stdout",
     "output_type": "stream",
     "text": [
      "Value: 1.235\n",
      "Value: 1.235\n"
     ]
    }
   ],
   "source": [
    "# Floating-point number with precision\n",
    "x = 1.23456789\n",
    "print(\"Value: %.3f\" % x)\n",
    "print(f\"Value: {x:.3f}\")\n"
   ],
   "metadata": {
    "collapsed": false
   }
  },
  {
   "cell_type": "code",
   "execution_count": 7,
   "outputs": [
    {
     "name": "stdout",
     "output_type": "stream",
     "text": [
      "Value: 1.235e-06\n",
      "Value: 1.235e-06\n"
     ]
    }
   ],
   "source": [
    "\n",
    "# Scientific notation with precision\n",
    "y = 1.23456789e-6\n",
    "print(\"Value: %.3e\" % y)\n",
    "print(f\"Value: {y:.3e}\")\n",
    "\n"
   ],
   "metadata": {
    "collapsed": false
   }
  },
  {
   "cell_type": "code",
   "execution_count": 19,
   "outputs": [
    {
     "name": "stdout",
     "output_type": "stream",
     "text": [
      "String:      hi\n",
      "String: hi     \n",
      "String:   hello\n",
      "String: hello  \n",
      "String: fizzbuzz\n",
      "String: fizzbuzz\n"
     ]
    }
   ],
   "source": [
    "\n",
    "# String with width\n",
    "for s in (\"hi\", \"hello\", \"fizzbuzz\"):\n",
    "    print(\"String: %7s\" % s)\n",
    "    print(f\"String: {s:>7s}\")\n",
    "    print(f\"String: {s:>7s}\")"
   ],
   "metadata": {
    "collapsed": false
   }
  },
  {
   "cell_type": "code",
   "execution_count": null,
   "outputs": [],
   "source": [],
   "metadata": {
    "collapsed": false
   }
  }
 ],
 "metadata": {
  "kernelspec": {
   "display_name": "Python 3 (ipykernel)",
   "language": "python",
   "name": "python3"
  },
  "language_info": {
   "codemirror_mode": {
    "name": "ipython",
    "version": 3
   },
   "file_extension": ".py",
   "mimetype": "text/x-python",
   "name": "python",
   "nbconvert_exporter": "python",
   "pygments_lexer": "ipython3",
   "version": "3.10.4"
  }
 },
 "nbformat": 4,
 "nbformat_minor": 1
}
