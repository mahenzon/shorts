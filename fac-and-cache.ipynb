{
 "cells": [
  {
   "cell_type": "code",
   "execution_count": 1,
   "metadata": {},
   "outputs": [],
   "source": [
    "# Рекурсия и кэш в Python"
   ]
  },
  {
   "cell_type": "code",
   "execution_count": 1,
   "metadata": {},
   "outputs": [],
   "source": []
  },
  {
   "cell_type": "code",
   "execution_count": 2,
   "metadata": {},
   "outputs": [],
   "source": [
    "# Факториал:\n",
    "# fac(3) = 3 * 2 * 1 = 6\n",
    "# fac(5) = 5 * 4 * fac(3) = 120\n",
    "# fac(5) = 5 * 4 * 3 * 2 * 1 = 120"
   ]
  },
  {
   "cell_type": "code",
   "execution_count": 8,
   "metadata": {},
   "outputs": [],
   "source": [
    "def fac(n):\n",
    "    if n < 1:\n",
    "        return None\n",
    "    if n == 1:\n",
    "        return 1\n",
    "\n",
    "    print(f\"process {n:3d}\")\n",
    "    return n * fac(n -1)"
   ]
  },
  {
   "cell_type": "code",
   "execution_count": 9,
   "metadata": {},
   "outputs": [
    {
     "name": "stdout",
     "output_type": "stream",
     "text": [
      "process   2\n",
      "process   3\n",
      "process   2\n",
      "process   4\n",
      "process   3\n",
      "process   2\n",
      "process   5\n",
      "process   4\n",
      "process   3\n",
      "process   2\n",
      "process   6\n",
      "process   5\n",
      "process   4\n",
      "process   3\n",
      "process   2\n",
      "process   7\n",
      "process   6\n",
      "process   5\n",
      "process   4\n",
      "process   3\n",
      "process   2\n",
      "process   8\n",
      "process   7\n",
      "process   6\n",
      "process   5\n",
      "process   4\n",
      "process   3\n",
      "process   2\n"
     ]
    },
    {
     "data": {
      "text/plain": [
       "{1: 1, 2: 2, 3: 6, 4: 24, 5: 120, 6: 720, 7: 5040, 8: 40320}"
      ]
     },
     "execution_count": 9,
     "metadata": {},
     "output_type": "execute_result"
    }
   ],
   "source": [
    "{\n",
    "    i: fac(i)\n",
    "    for i in range(1, 9)\n",
    "}"
   ]
  },
  {
   "cell_type": "code",
   "execution_count": 10,
   "metadata": {},
   "outputs": [],
   "source": [
    "from functools import cache\n",
    "\n",
    "\n",
    "@cache\n",
    "def fac(n):\n",
    "    if n < 1:\n",
    "        return -1\n",
    "    if n == 1:\n",
    "        return 1\n",
    "\n",
    "    print(f\"process {n:3d}\")\n",
    "    return n * fac(n -1)"
   ]
  },
  {
   "cell_type": "code",
   "execution_count": 11,
   "metadata": {},
   "outputs": [
    {
     "name": "stdout",
     "output_type": "stream",
     "text": [
      "process   2\n",
      "process   3\n",
      "process   4\n",
      "process   5\n",
      "process   6\n",
      "process   7\n",
      "process   8\n"
     ]
    },
    {
     "data": {
      "text/plain": [
       "{1: 1, 2: 2, 3: 6, 4: 24, 5: 120, 6: 720, 7: 5040, 8: 40320}"
      ]
     },
     "execution_count": 11,
     "metadata": {},
     "output_type": "execute_result"
    }
   ],
   "source": [
    "{\n",
    "    i: fac(i)\n",
    "    for i in range(1, 9)\n",
    "}"
   ]
  },
  {
   "cell_type": "code",
   "execution_count": null,
   "metadata": {},
   "outputs": [],
   "source": []
  }
 ],
 "metadata": {
  "kernelspec": {
   "display_name": "Python 3 (ipykernel)",
   "language": "python",
   "name": "python3"
  },
  "language_info": {
   "codemirror_mode": {
    "name": "ipython",
    "version": 3
   },
   "file_extension": ".py",
   "mimetype": "text/x-python",
   "name": "python",
   "nbconvert_exporter": "python",
   "pygments_lexer": "ipython3",
   "version": "3.10.4"
  }
 },
 "nbformat": 4,
 "nbformat_minor": 1
}
