{
 "cells": [
  {
   "cell_type": "code",
   "execution_count": 1,
   "metadata": {},
   "outputs": [],
   "source": [
    "# переопределение\n",
    "# стандартных\n",
    "# магических\n",
    "# методов\n",
    "# в Python"
   ]
  },
  {
   "cell_type": "code",
   "execution_count": 15,
   "metadata": {},
   "outputs": [
    {
     "name": "stdout",
     "output_type": "stream",
     "text": [
      "Expenses(utility=100, groceries=80)\n",
      "Expenses(utility=75, groceries=110)\n"
     ]
    }
   ],
   "source": [
    "class Expenses:\n",
    "    def __init__(self, utility, groceries):\n",
    "        self.utility = utility\n",
    "        self.groceries = groceries\n",
    "\n",
    "    def __str__(self):\n",
    "        return (\n",
    "            f\"{self.__class__.__name__}(\"\n",
    "            f\"utility={self.utility}, groceries\"\n",
    "            f\"={self.groceries})\"\n",
    "        )\n",
    "\n",
    "    def __add__(self, other: 'Expenses'):\n",
    "        return Expenses(\n",
    "            utility=self.utility + other.utility,\n",
    "            groceries=self.groceries + other.groceries,\n",
    "        )\n"
   ]
  },
  {
   "cell_type": "code",
   "execution_count": 16,
   "outputs": [
    {
     "name": "stdout",
     "output_type": "stream",
     "text": [
      "Expenses(utility=175, groceries=190)\n"
     ]
    }
   ],
   "source": [
    "exp = jan_expenses + feb_expenses\n",
    "print(exp)"
   ],
   "metadata": {
    "collapsed": false
   }
  },
  {
   "cell_type": "code",
   "execution_count": 17,
   "outputs": [
    {
     "name": "stdout",
     "output_type": "stream",
     "text": [
      "Expenses(utility=-25, groceries=30)\n"
     ]
    }
   ],
   "source": [
    "diff = feb_expenses - jan_expenses\n",
    "print(diff)"
   ],
   "metadata": {
    "collapsed": false
   }
  },
  {
   "cell_type": "code",
   "execution_count": null,
   "outputs": [],
   "source": [],
   "metadata": {
    "collapsed": false
   }
  }
 ],
 "metadata": {
  "kernelspec": {
   "display_name": "Python 3 (ipykernel)",
   "language": "python",
   "name": "python3"
  },
  "language_info": {
   "codemirror_mode": {
    "name": "ipython",
    "version": 3
   },
   "file_extension": ".py",
   "mimetype": "text/x-python",
   "name": "python",
   "nbconvert_exporter": "python",
   "pygments_lexer": "ipython3",
   "version": "3.10.4"
  }
 },
 "nbformat": 4,
 "nbformat_minor": 1
}
