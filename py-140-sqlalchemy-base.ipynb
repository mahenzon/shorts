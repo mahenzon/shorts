{
 "cells": [
  {
   "cell_type": "markdown",
   "metadata": {
    "collapsed": true
   },
   "source": [
    "# Python\n",
    "# SQL Alchemy"
   ]
  },
  {
   "cell_type": "code",
   "execution_count": 5,
   "metadata": {},
   "outputs": [],
   "source": [
    "from sqlalchemy import (\n",
    "    create_engine,\n",
    "    Column,\n",
    "    Integer,\n",
    "    String,\n",
    ")\n",
    "from sqlalchemy.orm import (\n",
    "    sessionmaker,\n",
    "    declarative_base,\n",
    ")\n",
    "\n",
    "\n",
    "engine = create_engine('sqlite:///example.db')\n",
    "Session = sessionmaker(bind=engine)\n",
    "\n",
    "Base = declarative_base()\n",
    "\n",
    "\n",
    "class Person(Base):\n",
    "    __tablename__ = 'people'\n",
    "\n",
    "    id = Column(Integer, primary_key=True)\n",
    "    name = Column(String(50))\n",
    "    age = Column(Integer)\n",
    "\n",
    "    def __str__(self):\n",
    "        return f\"<Person(id={self.id}, name={self.name!r}, age={self.age})>\"\n",
    "    \n",
    "    def __repr__(self):\n",
    "        return str(self)"
   ]
  },
  {
   "cell_type": "code",
   "execution_count": 2,
   "metadata": {},
   "outputs": [],
   "source": [
    "Base.metadata.create_all(bind=engine)"
   ]
  },
  {
   "cell_type": "code",
   "execution_count": 3,
   "metadata": {},
   "outputs": [],
   "source": [
    "session = Session()\n",
    "\n",
    "\n",
    "person_john = Person(name='John Doe', age=25)\n",
    "person_sam = Person(name='Sam White', age=42)\n",
    "\n",
    "session.add(person_john)\n",
    "session.add(person_sam)\n",
    "session.commit()"
   ]
  },
  {
   "cell_type": "code",
   "execution_count": 6,
   "metadata": {},
   "outputs": [
    {
     "name": "stdout",
     "output_type": "stream",
     "text": [
      "<Person(id=1, name='John Doe', age=25)>\n",
      "<Person(id=2, name='Sam White', age=42)>\n"
     ]
    }
   ],
   "source": [
    "people = session.query(Person).all()\n",
    "\n",
    "for person in people:\n",
    "    print(person)"
   ]
  },
  {
   "cell_type": "code",
   "execution_count": 7,
   "metadata": {},
   "outputs": [],
   "source": [
    "session.close()"
   ]
  },
  {
   "cell_type": "code",
   "execution_count": null,
   "metadata": {},
   "outputs": [],
   "source": []
  }
 ],
 "metadata": {
  "kernelspec": {
   "display_name": "Python 3 (ipykernel)",
   "language": "python",
   "name": "python3"
  },
  "language_info": {
   "codemirror_mode": {
    "name": "ipython",
    "version": 3
   },
   "file_extension": ".py",
   "mimetype": "text/x-python",
   "name": "python",
   "nbconvert_exporter": "python",
   "pygments_lexer": "ipython3",
   "version": "3.11.2"
  }
 },
 "nbformat": 4,
 "nbformat_minor": 1
}
