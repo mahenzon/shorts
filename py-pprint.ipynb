{
 "cells": [
  {
   "cell_type": "code",
   "execution_count": 1,
   "metadata": {},
   "outputs": [],
   "source": [
    "colors = [[[['black', 'cyan'], 'white', ['green', 'red']], [['magenta', 'yellow'], 'blue']]]"
   ]
  },
  {
   "cell_type": "code",
   "execution_count": 2,
   "metadata": {},
   "outputs": [],
   "source": [
    "data = {'azrstybgto': {'dzjrgpdfgx': {'rjllenqabf': 'uulvpxvfyu', 'wtynkwguqm': 'vnoyvseesx', 'qaeyhkmxyx': 'wszefdhrqb'}, 'hwculwqimk': {'hblhrftzck': 'urginfargg', 'xpkaqtctje': 'brqlmytuin', 'cntyybuunl': 'ecddxjjowu'}, 'sveulpenac': {'xixtvzpfio': 'wzyekzejcb', 'sxptnkysxa': 'nkrhggkzif', 'zqemnpxsbc': 'wcsmpcbjbs'}}, 'fdsgyntkvc': {'txmtpcdacq': {'folnibhxkj': 'kploekapiw', 'jyjixgfzcl': 'kayykzkgac', 'ngqhynftcx': 'njiroqrmvr'}, 'wyiunosfka': {'uvfbmhjwqt': 'thizkfvudm', 'rnwpspushf': 'grxhhdekmw', 'bmmxptmdbl': 'lempncxlym'}, 'mvewvfhslm': {'uvqtivbmga': 'gbjtasoyaw', 'nozcqmcjzo': 'coiuzosors', 'inswvoqtxd': 'ickiksumgp'}}, 'snvpxcsdbh': {'gikcovjonw': {'nkwgxavpjy': 'leukzqpkdj', 'qmrhklvabq': 'zywqofevqz', 'zfiyuswbuz': 'lvhidhrtkn'}, 'xnkcjdeovf': {'xlizcpmbyu': 'habjjukipj', 'etokotebbd': 'ikqnsvlgfm', 'plcqullotk': 'ivxddyrldr'}, 'hhugedrhiu': {'ttwyvyctyh': 'dlxykqbtxs', 'wulrqvbwpd': 'izkmmgjrhh', 'hpttmuilbg': 'vshxoesqyb'}}}"
   ]
  },
  {
   "cell_type": "code",
   "execution_count": 3,
   "metadata": {},
   "outputs": [
    {
     "name": "stdout",
     "output_type": "stream",
     "text": [
      "[[[['black', 'cyan'], 'white', ['green', 'red']], [['magenta', 'yellow'], 'blue']]]\n"
     ]
    }
   ],
   "source": [
    "print(colors)"
   ]
  },
  {
   "cell_type": "code",
   "execution_count": 4,
   "metadata": {},
   "outputs": [
    {
     "name": "stdout",
     "output_type": "stream",
     "text": [
      "{'azrstybgto': {'dzjrgpdfgx': {'rjllenqabf': 'uulvpxvfyu', 'wtynkwguqm': 'vnoyvseesx', 'qaeyhkmxyx': 'wszefdhrqb'}, 'hwculwqimk': {'hblhrftzck': 'urginfargg', 'xpkaqtctje': 'brqlmytuin', 'cntyybuunl': 'ecddxjjowu'}, 'sveulpenac': {'xixtvzpfio': 'wzyekzejcb', 'sxptnkysxa': 'nkrhggkzif', 'zqemnpxsbc': 'wcsmpcbjbs'}}, 'fdsgyntkvc': {'txmtpcdacq': {'folnibhxkj': 'kploekapiw', 'jyjixgfzcl': 'kayykzkgac', 'ngqhynftcx': 'njiroqrmvr'}, 'wyiunosfka': {'uvfbmhjwqt': 'thizkfvudm', 'rnwpspushf': 'grxhhdekmw', 'bmmxptmdbl': 'lempncxlym'}, 'mvewvfhslm': {'uvqtivbmga': 'gbjtasoyaw', 'nozcqmcjzo': 'coiuzosors', 'inswvoqtxd': 'ickiksumgp'}}, 'snvpxcsdbh': {'gikcovjonw': {'nkwgxavpjy': 'leukzqpkdj', 'qmrhklvabq': 'zywqofevqz', 'zfiyuswbuz': 'lvhidhrtkn'}, 'xnkcjdeovf': {'xlizcpmbyu': 'habjjukipj', 'etokotebbd': 'ikqnsvlgfm', 'plcqullotk': 'ivxddyrldr'}, 'hhugedrhiu': {'ttwyvyctyh': 'dlxykqbtxs', 'wulrqvbwpd': 'izkmmgjrhh', 'hpttmuilbg': 'vshxoesqyb'}}}\n"
     ]
    }
   ],
   "source": [
    "print(data)"
   ]
  },
  {
   "cell_type": "code",
   "execution_count": 5,
   "metadata": {},
   "outputs": [],
   "source": [
    "from pprint import pprint"
   ]
  },
  {
   "cell_type": "code",
   "execution_count": 6,
   "metadata": {},
   "outputs": [
    {
     "name": "stdout",
     "output_type": "stream",
     "text": [
      "[[[['black', 'cyan'], 'white', ['green', 'red']],\n",
      "  [['magenta', 'yellow'], 'blue']]]\n"
     ]
    }
   ],
   "source": [
    "pprint(colors)"
   ]
  },
  {
   "cell_type": "code",
   "execution_count": 7,
   "metadata": {},
   "outputs": [
    {
     "name": "stdout",
     "output_type": "stream",
     "text": [
      "{'azrstybgto': {'dzjrgpdfgx': {'qaeyhkmxyx': 'wszefdhrqb',\n",
      "                               'rjllenqabf': 'uulvpxvfyu',\n",
      "                               'wtynkwguqm': 'vnoyvseesx'},\n",
      "                'hwculwqimk': {'cntyybuunl': 'ecddxjjowu',\n",
      "                               'hblhrftzck': 'urginfargg',\n",
      "                               'xpkaqtctje': 'brqlmytuin'},\n",
      "                'sveulpenac': {'sxptnkysxa': 'nkrhggkzif',\n",
      "                               'xixtvzpfio': 'wzyekzejcb',\n",
      "                               'zqemnpxsbc': 'wcsmpcbjbs'}},\n",
      " 'fdsgyntkvc': {'mvewvfhslm': {'inswvoqtxd': 'ickiksumgp',\n",
      "                               'nozcqmcjzo': 'coiuzosors',\n",
      "                               'uvqtivbmga': 'gbjtasoyaw'},\n",
      "                'txmtpcdacq': {'folnibhxkj': 'kploekapiw',\n",
      "                               'jyjixgfzcl': 'kayykzkgac',\n",
      "                               'ngqhynftcx': 'njiroqrmvr'},\n",
      "                'wyiunosfka': {'bmmxptmdbl': 'lempncxlym',\n",
      "                               'rnwpspushf': 'grxhhdekmw',\n",
      "                               'uvfbmhjwqt': 'thizkfvudm'}},\n",
      " 'snvpxcsdbh': {'gikcovjonw': {'nkwgxavpjy': 'leukzqpkdj',\n",
      "                               'qmrhklvabq': 'zywqofevqz',\n",
      "                               'zfiyuswbuz': 'lvhidhrtkn'},\n",
      "                'hhugedrhiu': {'hpttmuilbg': 'vshxoesqyb',\n",
      "                               'ttwyvyctyh': 'dlxykqbtxs',\n",
      "                               'wulrqvbwpd': 'izkmmgjrhh'},\n",
      "                'xnkcjdeovf': {'etokotebbd': 'ikqnsvlgfm',\n",
      "                               'plcqullotk': 'ivxddyrldr',\n",
      "                               'xlizcpmbyu': 'habjjukipj'}}}\n"
     ]
    }
   ],
   "source": [
    "pprint(data)"
   ]
  },
  {
   "cell_type": "code",
   "execution_count": 10,
   "metadata": {},
   "outputs": [
    {
     "name": "stdout",
     "output_type": "stream",
     "text": [
      "{'azrstybgto': {'dzjrgpdfgx': {'qaeyhkmxyx': 'wszefdhrqb',\n",
      "                               'rjllenqabf': 'uulvpxvfyu',\n",
      "                               'wtynkwguqm': 'vnoyvseesx'},\n",
      "                'hwculwqimk': {'cntyybuunl': 'ecddxjjowu',\n",
      "                               'hblhrftzck': 'urginfargg',\n",
      "                               'xpkaqtctje': 'brqlmytuin'},\n",
      "                'sveulpenac': {'sxptnkysxa': 'nkrhggkzif',\n",
      "                               'xixtvzpfio': 'wzyekzejcb',\n",
      "                               'zqemnpxsbc': 'wcsmpcbjbs'}},\n",
      " 'fdsgyntkvc': {'mvewvfhslm': {'inswvoqtxd': 'ickiksumgp',\n",
      "                               'nozcqmcjzo': 'coiuzosors',\n",
      "                               'uvqtivbmga': 'gbjtasoyaw'},\n",
      "                'txmtpcdacq': {'folnibhxkj': 'kploekapiw',\n",
      "                               'jyjixgfzcl': 'kayykzkgac',\n",
      "                               'ngqhynftcx': 'njiroqrmvr'},\n",
      "                'wyiunosfka': {'bmmxptmdbl': 'lempncxlym',\n",
      "                               'rnwpspushf': 'grxhhdekmw',\n",
      "                               'uvfbmhjwqt': 'thizkfvudm'}},\n",
      " 'snvpxcsdbh': {'gikcovjonw': {'nkwgxavpjy': 'leukzqpkdj',\n",
      "                               'qmrhklvabq': 'zywqofevqz',\n",
      "                               'zfiyuswbuz': 'lvhidhrtkn'},\n",
      "                'hhugedrhiu': {'hpttmuilbg': 'vshxoesqyb',\n",
      "                               'ttwyvyctyh': 'dlxykqbtxs',\n",
      "                               'wulrqvbwpd': 'izkmmgjrhh'},\n",
      "                'xnkcjdeovf': {'etokotebbd': 'ikqnsvlgfm',\n",
      "                               'plcqullotk': 'ivxddyrldr',\n",
      "                               'xlizcpmbyu': 'habjjukipj'}}}\n"
     ]
    }
   ],
   "source": [
    "pprint(data, width=10)"
   ]
  },
  {
   "cell_type": "code",
   "execution_count": null,
   "metadata": {},
   "outputs": [],
   "source": []
  }
 ],
 "metadata": {
  "kernelspec": {
   "display_name": "Python 3 (ipykernel)",
   "language": "python",
   "name": "python3"
  },
  "language_info": {
   "codemirror_mode": {
    "name": "ipython",
    "version": 3
   },
   "file_extension": ".py",
   "mimetype": "text/x-python",
   "name": "python",
   "nbconvert_exporter": "python",
   "pygments_lexer": "ipython3",
   "version": "3.11.2"
  }
 },
 "nbformat": 4,
 "nbformat_minor": 1
}
