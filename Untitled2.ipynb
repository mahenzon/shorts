{
 "cells": [
  {
   "cell_type": "code",
   "execution_count": 10,
   "id": "5f8f38cb",
   "metadata": {},
   "outputs": [],
   "source": [
    "class Solution:\n",
    "    def encode(self, strings):\n",
    "        \"\"\"\n",
    "        @param: strings: a list of strings\n",
    "        @return: encodes a list of strings to a single string.\n",
    "        \"\"\"\n",
    "        # write your code here\n",
    "\n",
    "    def decode(self, string):\n",
    "        \"\"\"\n",
    "        @param: string: A string\n",
    "        @return: dcodes a single string to a list of strings\n",
    "        \"\"\"\n",
    "        # write your code here"
   ]
  },
  {
   "cell_type": "code",
   "execution_count": 46,
   "id": "80b3f1fb",
   "metadata": {},
   "outputs": [],
   "source": [
    "class Solution:\n",
    "    def encode(self, strings):\n",
    "        \"\"\"\n",
    "        @param: strings: a list of strings\n",
    "        @return: encodes a list of strings to a single string.\n",
    "        \"\"\"\n",
    "        delimiter = \"|\"\n",
    "        result = \"\"\n",
    "        for word in strings:\n",
    "            result += \"{count}{delimiter}{word}\".format(\n",
    "                count=len(word), delimiter=delimiter, word=word)\n",
    "        return result\n",
    "\n",
    "    def decode(self, string):\n",
    "        \"\"\"\n",
    "        @param: string: A string\n",
    "        @return: dcodes a single string to a list of strings\n",
    "        \"\"\"\n",
    "        delimiter = \"|\"\n",
    "        result = []\n",
    "        last_char_pos = 0\n",
    "        string_len = len(string)\n",
    "        while last_char_pos < string_len:\n",
    "            num_pos = last_char_pos\n",
    "\n",
    "            while string[num_pos] != delimiter:\n",
    "                num_pos += 1\n",
    "\n",
    "            word_len = int(string[last_char_pos:num_pos])\n",
    "            word_start = num_pos + 1\n",
    "            word_end = word_start + word_len\n",
    "            word = string[word_start:word_end]\n",
    "\n",
    "            result.append(word)\n",
    "            last_char_pos = word_end\n",
    "            \n",
    "        return result\n"
   ]
  },
  {
   "cell_type": "code",
   "execution_count": 47,
   "id": "40e83600",
   "metadata": {},
   "outputs": [
    {
     "name": "stdout",
     "output_type": "stream",
     "text": [
      "3|foo4||bar9|spam|eggs4|qwe|\n",
      "['foo', '|bar', 'spam|eggs', 'qwe|']\n"
     ]
    }
   ],
   "source": [
    "solution = Solution()\n",
    "encoded = solution.encode([\"foo\", \"|bar\", \"spam|eggs\", \"qwe|\"])\n",
    "print(encoded)\n",
    "decoded = solution.decode(encoded)\n",
    "print(decoded)"
   ]
  },
  {
   "cell_type": "code",
   "execution_count": 48,
   "id": "9bbaa82e",
   "metadata": {},
   "outputs": [
    {
     "data": {
      "text/plain": [
       "['become', 'middle', 'music', 'some', 'dog', 'party']"
      ]
     },
     "execution_count": 48,
     "metadata": {},
     "output_type": "execute_result"
    }
   ],
   "source": [
    "from faker import Faker\n",
    "\n",
    "fake = Faker()\n",
    "fake.words(6)"
   ]
  },
  {
   "cell_type": "code",
   "execution_count": 49,
   "id": "d9d85995",
   "metadata": {},
   "outputs": [
    {
     "name": "stdout",
     "output_type": "stream",
     "text": [
      "ok\n"
     ]
    }
   ],
   "source": [
    "from random import randint\n",
    "\n",
    "for i in range(randint(40, 100)):\n",
    "    for words_count in range(randint(20, 50)):\n",
    "        words = fake.words(words_count)\n",
    "        solution = Solution()\n",
    "        encoded = solution.encode(words)\n",
    "        solution = Solution()\n",
    "        decoded = solution.decode(encoded)\n",
    "        assert decoded == words\n",
    "        \n",
    "print(\"ok\")"
   ]
  },
  {
   "cell_type": "code",
   "execution_count": 50,
   "id": "a8a9bddb",
   "metadata": {},
   "outputs": [
    {
     "name": "stdout",
     "output_type": "stream",
     "text": [
      "12.01%  81.27%\n"
     ]
    }
   ],
   "source": [
    "from random import random\n",
    "\n",
    "print(\"{:.2f}%  {:.2f}%\".format(random() * 100, random() * 100))"
   ]
  },
  {
   "cell_type": "code",
   "execution_count": null,
   "id": "01774a1b",
   "metadata": {},
   "outputs": [],
   "source": []
  }
 ],
 "metadata": {
  "kernelspec": {
   "display_name": "Python 3 (ipykernel)",
   "language": "python",
   "name": "python3"
  },
  "language_info": {
   "codemirror_mode": {
    "name": "ipython",
    "version": 3
   },
   "file_extension": ".py",
   "mimetype": "text/x-python",
   "name": "python",
   "nbconvert_exporter": "python",
   "pygments_lexer": "ipython3",
   "version": "3.10.4"
  }
 },
 "nbformat": 4,
 "nbformat_minor": 5
}
