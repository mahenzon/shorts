{
 "cells": [
  {
   "cell_type": "code",
   "execution_count": 1,
   "id": "f5c221fe",
   "metadata": {},
   "outputs": [
    {
     "name": "stdout",
     "output_type": "stream",
     "text": [
      "1970-01-01T00:00:00\n"
     ]
    }
   ],
   "source": [
    "print(\"1970-01-01T00:00:00\")"
   ]
  },
  {
   "cell_type": "code",
   "execution_count": 2,
   "id": "3718d031",
   "metadata": {},
   "outputs": [
    {
     "name": "stdout",
     "output_type": "stream",
     "text": [
      "2023-01-01T16:42:13\n"
     ]
    }
   ],
   "source": [
    "print(\"2023-01-01T16:42:13\")"
   ]
  },
  {
   "cell_type": "code",
   "execution_count": 6,
   "id": "0be6b260",
   "metadata": {},
   "outputs": [
    {
     "name": "stdout",
     "output_type": "stream",
     "text": [
      "2020-02-26 13:37:00\n"
     ]
    }
   ],
   "source": [
    "from datetime import datetime, timedelta\n",
    "\n",
    "date_time = datetime(2020, 2, 26, 13, 37)\n",
    "print(date_time)"
   ]
  },
  {
   "cell_type": "code",
   "execution_count": 7,
   "id": "fcc2de2a",
   "metadata": {},
   "outputs": [
    {
     "name": "stdout",
     "output_type": "stream",
     "text": [
      "2020-02-29 13:37:00\n"
     ]
    }
   ],
   "source": [
    "two_days = timedelta(days=3)\n",
    "print(date_time + two_days)"
   ]
  },
  {
   "cell_type": "code",
   "execution_count": null,
   "id": "4fd08d52",
   "metadata": {},
   "outputs": [],
   "source": []
  }
 ],
 "metadata": {
  "kernelspec": {
   "display_name": "Python 3 (ipykernel)",
   "language": "python",
   "name": "python3"
  },
  "language_info": {
   "codemirror_mode": {
    "name": "ipython",
    "version": 3
   },
   "file_extension": ".py",
   "mimetype": "text/x-python",
   "name": "python",
   "nbconvert_exporter": "python",
   "pygments_lexer": "ipython3",
   "version": "3.10.4"
  }
 },
 "nbformat": 4,
 "nbformat_minor": 5
}
