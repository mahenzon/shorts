{
 "cells": [
  {
   "cell_type": "code",
   "execution_count": 1,
   "metadata": {},
   "outputs": [],
   "source": [
    "# Python\n",
    "# asyncio gather"
   ]
  },
  {
   "cell_type": "code",
   "execution_count": 6,
   "metadata": {},
   "outputs": [
    {
     "name": "stdout",
     "output_type": "stream",
     "text": [
      "get posts\n",
      "get news\n",
      "done getting posts\n",
      "done getting news\n",
      "posts: {'posts': []}\n",
      "news: {'news': []}\n"
     ]
    }
   ],
   "source": [
    "import asyncio\n",
    "\n",
    "async def get_posts():\n",
    "    print(\"get posts\")\n",
    "    await asyncio.sleep(1)\n",
    "    print(\"done getting posts\")\n",
    "    return {\"posts\": []}\n",
    "\n",
    "\n",
    "async def get_news():\n",
    "    print(\"get news\")\n",
    "    await asyncio.sleep(1)\n",
    "    print(\"done getting news\")\n",
    "    return {\"news\": []}\n",
    "\n",
    "\n",
    "async def main():\n",
    "    posts, news = await asyncio.gather(\n",
    "        get_posts(),\n",
    "        get_news(),\n",
    "    )\n",
    "    print(\"posts:\", posts)\n",
    "    print(\"news:\", news)\n",
    "    \n",
    "\n",
    "# asyncio.run(main())\n",
    "await main()"
   ]
  },
  {
   "cell_type": "code",
   "execution_count": null,
   "metadata": {},
   "outputs": [],
   "source": []
  }
 ],
 "metadata": {
  "kernelspec": {
   "display_name": "Python 3 (ipykernel)",
   "language": "python",
   "name": "python3"
  },
  "language_info": {
   "codemirror_mode": {
    "name": "ipython",
    "version": 3
   },
   "file_extension": ".py",
   "mimetype": "text/x-python",
   "name": "python",
   "nbconvert_exporter": "python",
   "pygments_lexer": "ipython3",
   "version": "3.11.2"
  }
 },
 "nbformat": 4,
 "nbformat_minor": 1
}
