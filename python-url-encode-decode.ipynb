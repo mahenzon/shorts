{
 "cells": [
  {
   "cell_type": "code",
   "execution_count": 1,
   "id": "e86d0553-431e-4b99-9cd9-872feaf8e43b",
   "metadata": {},
   "outputs": [],
   "source": [
    "# Python\n",
    "# url quote\n",
    "# url unquote"
   ]
  },
  {
   "cell_type": "code",
   "execution_count": 2,
   "id": "70a33250",
   "metadata": {},
   "outputs": [
    {
     "data": {
      "text/plain": [
       "'/hi there/spam+eggs/'"
      ]
     },
     "execution_count": 2,
     "metadata": {},
     "output_type": "execute_result"
    }
   ],
   "source": [
    "string = \"/hi there/spam+eggs/\"\n",
    "string"
   ]
  },
  {
   "cell_type": "code",
   "execution_count": 3,
   "id": "27dadfe9",
   "metadata": {},
   "outputs": [
    {
     "data": {
      "text/plain": [
       "'/hi%20there/spam%2Beggs/'"
      ]
     },
     "execution_count": 3,
     "metadata": {},
     "output_type": "execute_result"
    }
   ],
   "source": [
    "from urllib.parse import (\n",
    "    quote,\n",
    "    unquote,\n",
    ")\n",
    "\n",
    "encoded = quote(string)\n",
    "encoded"
   ]
  },
  {
   "cell_type": "code",
   "execution_count": 4,
   "id": "1c35ebb7",
   "metadata": {},
   "outputs": [
    {
     "data": {
      "text/plain": [
       "'/hi there/spam+eggs/'"
      ]
     },
     "execution_count": 4,
     "metadata": {},
     "output_type": "execute_result"
    }
   ],
   "source": [
    "unquote(encoded)"
   ]
  },
  {
   "cell_type": "code",
   "execution_count": 5,
   "id": "a4b973fc",
   "metadata": {},
   "outputs": [
    {
     "data": {
      "text/plain": [
       "'%2Fhi+there%2Fspam%2Beggs%2F'"
      ]
     },
     "execution_count": 5,
     "metadata": {},
     "output_type": "execute_result"
    }
   ],
   "source": [
    "from urllib.parse import (\n",
    "    quote_plus,\n",
    ")\n",
    "\n",
    "quote_plus(string)"
   ]
  },
  {
   "cell_type": "code",
   "execution_count": 6,
   "id": "6b883895",
   "metadata": {},
   "outputs": [
    {
     "data": {
      "text/plain": [
       "'/hi+there/spam%2Beggs/'"
      ]
     },
     "execution_count": 6,
     "metadata": {},
     "output_type": "execute_result"
    }
   ],
   "source": [
    "quote_plus(string, safe=\"/\")"
   ]
  },
  {
   "cell_type": "code",
   "execution_count": null,
   "id": "6d053c13",
   "metadata": {},
   "outputs": [],
   "source": []
  }
 ],
 "metadata": {
  "kernelspec": {
   "display_name": "Python 3 (ipykernel)",
   "language": "python",
   "name": "python3"
  },
  "language_info": {
   "codemirror_mode": {
    "name": "ipython",
    "version": 3
   },
   "file_extension": ".py",
   "mimetype": "text/x-python",
   "name": "python",
   "nbconvert_exporter": "python",
   "pygments_lexer": "ipython3",
   "version": "3.11.2"
  }
 },
 "nbformat": 4,
 "nbformat_minor": 5
}
