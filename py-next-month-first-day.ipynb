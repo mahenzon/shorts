{
 "cells": [
  {
   "cell_type": "code",
   "execution_count": 1,
   "metadata": {},
   "outputs": [
    {
     "name": "stdout",
     "output_type": "stream",
     "text": [
      "2020-12-17 00:00:00\n"
     ]
    }
   ],
   "source": [
    "from datetime import datetime\n",
    "\n",
    "some_day = datetime(\n",
    "    2020, 12, 17)\n",
    "\n",
    "print(some_day)"
   ]
  },
  {
   "cell_type": "code",
   "execution_count": 2,
   "metadata": {},
   "outputs": [
    {
     "name": "stdout",
     "output_type": "stream",
     "text": [
      "2020-12-28 00:00:00\n"
     ]
    }
   ],
   "source": [
    "almost_last_day = (\n",
    "    some_day.replace(day=28)\n",
    ")\n",
    "print(almost_last_day)"
   ]
  },
  {
   "cell_type": "code",
   "execution_count": 3,
   "metadata": {},
   "outputs": [
    {
     "name": "stdout",
     "output_type": "stream",
     "text": [
      "2021-01-02 00:00:00\n"
     ]
    }
   ],
   "source": [
    "from datetime import timedelta\n",
    "\n",
    "some_next_month = (\n",
    "    almost_last_day +\n",
    "    timedelta(days=5)\n",
    ")\n",
    "print(some_next_month)"
   ]
  },
  {
   "cell_type": "code",
   "execution_count": 4,
   "metadata": {},
   "outputs": [
    {
     "name": "stdout",
     "output_type": "stream",
     "text": [
      "2021-01-01 00:00:00\n"
     ]
    }
   ],
   "source": [
    "first_day_next_month = (\n",
    "    some_next_month.replace(\n",
    "        day=1,\n",
    "    )\n",
    ")\n",
    "print(first_day_next_month)"
   ]
  },
  {
   "cell_type": "code",
   "execution_count": 5,
   "metadata": {},
   "outputs": [
    {
     "name": "stdout",
     "output_type": "stream",
     "text": [
      "2021-01-01 00:00:00\n"
     ]
    }
   ],
   "source": [
    "f_day = some_day.replace(\n",
    "  day=1,\n",
    "  month=some_day.month % 12 + 1,\n",
    "  year=some_day.year + \n",
    "  (some_day.month // 12)\n",
    ")\n",
    "\n",
    "print(f_day)"
   ]
  },
  {
   "cell_type": "code",
   "execution_count": null,
   "metadata": {},
   "outputs": [],
   "source": []
  }
 ],
 "metadata": {
  "kernelspec": {
   "display_name": "Python 3 (ipykernel)",
   "language": "python",
   "name": "python3"
  },
  "language_info": {
   "codemirror_mode": {
    "name": "ipython",
    "version": 3
   },
   "file_extension": ".py",
   "mimetype": "text/x-python",
   "name": "python",
   "nbconvert_exporter": "python",
   "pygments_lexer": "ipython3",
   "version": "3.11.2"
  }
 },
 "nbformat": 4,
 "nbformat_minor": 1
}
