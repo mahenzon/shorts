{
 "cells": [
  {
   "cell_type": "code",
   "execution_count": 1,
   "metadata": {},
   "outputs": [
    {
     "name": "stdout",
     "output_type": "stream",
     "text": [
      "2023-04-30 21:52:33.096477\n"
     ]
    }
   ],
   "source": [
    "from datetime import datetime\n",
    "\n",
    "day = datetime.now()\n",
    "print(day)"
   ]
  },
  {
   "cell_type": "code",
   "execution_count": 2,
   "metadata": {},
   "outputs": [
    {
     "name": "stdout",
     "output_type": "stream",
     "text": [
      "1 day, 2:00:00\n"
     ]
    }
   ],
   "source": [
    "from datetime import timedelta\n",
    "\n",
    "td = timedelta(days=1, hours=2)\n",
    "print(td)"
   ]
  },
  {
   "cell_type": "code",
   "execution_count": 3,
   "metadata": {},
   "outputs": [
    {
     "name": "stdout",
     "output_type": "stream",
     "text": [
      "2023-05-01 21:52:33.096477\n"
     ]
    }
   ],
   "source": [
    "one_d_later = day + timedelta(\n",
    "    days=1)\n",
    "print(one_d_later)"
   ]
  },
  {
   "cell_type": "code",
   "execution_count": 4,
   "metadata": {},
   "outputs": [
    {
     "name": "stdout",
     "output_type": "stream",
     "text": [
      "2023-04-30 20:52:33.096477\n"
     ]
    }
   ],
   "source": [
    "one_h_ago = day - timedelta(\n",
    "    hours=1)\n",
    "print(one_h_ago)"
   ]
  },
  {
   "cell_type": "code",
   "execution_count": 5,
   "metadata": {},
   "outputs": [
    {
     "name": "stdout",
     "output_type": "stream",
     "text": [
      "37 days, 21:55:00\n"
     ]
    }
   ],
   "source": [
    "date1 = datetime(\n",
    "    2022, 5, 11, 20, 40)\n",
    "date2 = datetime(\n",
    "    2022, 6, 18, 18, 35)\n",
    "difference = date2 - date1\n",
    "print(difference)"
   ]
  },
  {
   "cell_type": "code",
   "execution_count": null,
   "metadata": {},
   "outputs": [],
   "source": []
  }
 ],
 "metadata": {
  "kernelspec": {
   "display_name": "Python 3 (ipykernel)",
   "language": "python",
   "name": "python3"
  },
  "language_info": {
   "codemirror_mode": {
    "name": "ipython",
    "version": 3
   },
   "file_extension": ".py",
   "mimetype": "text/x-python",
   "name": "python",
   "nbconvert_exporter": "python",
   "pygments_lexer": "ipython3",
   "version": "3.11.2"
  }
 },
 "nbformat": 4,
 "nbformat_minor": 1
}
