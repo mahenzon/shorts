{
 "cells": [
  {
   "cell_type": "markdown",
   "metadata": {},
   "source": [
    "## Python\n",
    "### timing decorator\n",
    "#### задача с собеседования"
   ]
  },
  {
   "cell_type": "code",
   "execution_count": 1,
   "metadata": {},
   "outputs": [],
   "source": [
    "def power(n, e):\n",
    "    return n ** e"
   ]
  },
  {
   "cell_type": "code",
   "execution_count": null,
   "metadata": {},
   "outputs": [],
   "source": [
    "from functools import wraps\n",
    "from timeit import default_timer\n",
    "\n",
    "\n",
    "def show_time(func):\n",
    "\n",
    "    @wraps(func)\n",
    "    def wrapper(*a, **kw):\n",
    "        start_time = default_timer()\n",
    "        result = func(*a, *kw)\n",
    "        total_time = (\n",
    "            default_timer()\n",
    "            - start_time\n",
    "        )\n",
    "        print(\n",
    "            \"total time\",\n",
    "            total_time)\n",
    "        return result\n",
    "\n",
    "\n",
    "    return wrapper"
   ]
  },
  {
   "cell_type": "code",
   "execution_count": 2,
   "metadata": {},
   "outputs": [],
   "source": [
    "from functools import wraps\n",
    "from timeit import default_timer\n",
    "\n",
    "\n",
    "def show_time(func):\n",
    "\n",
    "    @wraps(func)\n",
    "    def wrapper(*a, **kw):\n",
    "        start_time = default_timer()\n",
    "        try:\n",
    "            return func(*a, *kw)\n",
    "        finally:\n",
    "            total_time = (\n",
    "                default_timer()\n",
    "                - start_time\n",
    "            )\n",
    "            print(\n",
    "                \"total time\",\n",
    "                total_time)\n",
    "\n",
    "    return wrapper"
   ]
  },
  {
   "cell_type": "code",
   "execution_count": 3,
   "metadata": {},
   "outputs": [],
   "source": [
    "@show_time\n",
    "def power(n, e):\n",
    "    return n ** e"
   ]
  },
  {
   "cell_type": "code",
   "execution_count": 4,
   "metadata": {},
   "outputs": [
    {
     "name": "stdout",
     "output_type": "stream",
     "text": [
      "total time 3.875000402331352e-06\n"
     ]
    },
    {
     "data": {
      "text/plain": [
       "1024"
      ]
     },
     "execution_count": 4,
     "metadata": {},
     "output_type": "execute_result"
    }
   ],
   "source": [
    "power(2, 10)"
   ]
  },
  {
   "cell_type": "code",
   "execution_count": 5,
   "metadata": {},
   "outputs": [
    {
     "name": "stdout",
     "output_type": "stream",
     "text": [
      "total time 5.0000089686363935e-06\n"
     ]
    },
    {
     "ename": "TypeError",
     "evalue": "unsupported operand type(s) for ** or pow(): 'str' and 'str'",
     "output_type": "error",
     "traceback": [
      "\u001B[0;31m---------------------------------------------------------------------------\u001B[0m",
      "\u001B[0;31mTypeError\u001B[0m                                 Traceback (most recent call last)",
      "Cell \u001B[0;32mIn[5], line 1\u001B[0m\n\u001B[0;32m----> 1\u001B[0m \u001B[43mpower\u001B[49m\u001B[43m(\u001B[49m\u001B[38;5;124;43m\"\u001B[39;49m\u001B[38;5;124;43ma\u001B[39;49m\u001B[38;5;124;43m\"\u001B[39;49m\u001B[43m,\u001B[49m\u001B[43m \u001B[49m\u001B[38;5;124;43m\"\u001B[39;49m\u001B[38;5;124;43mb\u001B[39;49m\u001B[38;5;124;43m\"\u001B[39;49m\u001B[43m)\u001B[49m\n",
      "Cell \u001B[0;32mIn[2], line 11\u001B[0m, in \u001B[0;36mshow_time.<locals>.wrapper\u001B[0;34m(*a, **kw)\u001B[0m\n\u001B[1;32m      9\u001B[0m start_time \u001B[38;5;241m=\u001B[39m default_timer()\n\u001B[1;32m     10\u001B[0m \u001B[38;5;28;01mtry\u001B[39;00m:\n\u001B[0;32m---> 11\u001B[0m     \u001B[38;5;28;01mreturn\u001B[39;00m \u001B[43mfunc\u001B[49m\u001B[43m(\u001B[49m\u001B[38;5;241;43m*\u001B[39;49m\u001B[43ma\u001B[49m\u001B[43m,\u001B[49m\u001B[43m \u001B[49m\u001B[38;5;241;43m*\u001B[39;49m\u001B[43mkw\u001B[49m\u001B[43m)\u001B[49m\n\u001B[1;32m     12\u001B[0m \u001B[38;5;28;01mfinally\u001B[39;00m:\n\u001B[1;32m     13\u001B[0m     total_time \u001B[38;5;241m=\u001B[39m (\n\u001B[1;32m     14\u001B[0m         default_timer()\n\u001B[1;32m     15\u001B[0m         \u001B[38;5;241m-\u001B[39m start_time\n\u001B[1;32m     16\u001B[0m     )\n",
      "Cell \u001B[0;32mIn[3], line 3\u001B[0m, in \u001B[0;36mpower\u001B[0;34m(n, e)\u001B[0m\n\u001B[1;32m      1\u001B[0m \u001B[38;5;129m@show_time\u001B[39m\n\u001B[1;32m      2\u001B[0m \u001B[38;5;28;01mdef\u001B[39;00m \u001B[38;5;21mpower\u001B[39m(n, e):\n\u001B[0;32m----> 3\u001B[0m     \u001B[38;5;28;01mreturn\u001B[39;00m \u001B[43mn\u001B[49m\u001B[43m \u001B[49m\u001B[38;5;241;43m*\u001B[39;49m\u001B[38;5;241;43m*\u001B[39;49m\u001B[43m \u001B[49m\u001B[43me\u001B[49m\n",
      "\u001B[0;31mTypeError\u001B[0m: unsupported operand type(s) for ** or pow(): 'str' and 'str'"
     ]
    }
   ],
   "source": [
    "power(\"a\", \"b\")"
   ]
  },
  {
   "cell_type": "code",
   "execution_count": null,
   "metadata": {},
   "outputs": [],
   "source": []
  }
 ],
 "metadata": {
  "kernelspec": {
   "display_name": "Python 3 (ipykernel)",
   "language": "python",
   "name": "python3"
  },
  "language_info": {
   "codemirror_mode": {
    "name": "ipython",
    "version": 3
   },
   "file_extension": ".py",
   "mimetype": "text/x-python",
   "name": "python",
   "nbconvert_exporter": "python",
   "pygments_lexer": "ipython3",
   "version": "3.11.2"
  }
 },
 "nbformat": 4,
 "nbformat_minor": 1
}
